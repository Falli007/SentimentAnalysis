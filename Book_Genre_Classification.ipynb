{
  "nbformat": 4,
  "nbformat_minor": 0,
  "metadata": {
    "colab": {
      "provenance": [],
      "authorship_tag": "ABX9TyOG/juc1YlqqrIdQ38QcimI",
      "include_colab_link": true
    },
    "kernelspec": {
      "name": "python3",
      "display_name": "Python 3"
    },
    "language_info": {
      "name": "python"
    }
  },
  "cells": [
    {
      "cell_type": "markdown",
      "metadata": {
        "id": "view-in-github",
        "colab_type": "text"
      },
      "source": [
        "<a href=\"https://colab.research.google.com/github/Falli007/SentimentAnalysis/blob/main/Book_Genre_Classification.ipynb\" target=\"_parent\"><img src=\"https://colab.research.google.com/assets/colab-badge.svg\" alt=\"Open In Colab\"/></a>"
      ]
    },
    {
      "cell_type": "code",
      "execution_count": 1,
      "metadata": {
        "id": "rtCoG_Ga8nTe"
      },
      "outputs": [],
      "source": [
        "import pandas as pd\n",
        "import numpy as np\n",
        "import seaborn as sn\n",
        "import matplotlib.pyplot as plt\n",
        "import re\n",
        "import nltk\n",
        "from collections import Counter\n",
        "from sklearn.feature_extraction.text import CountVectorizer\n",
        "from sklearn.feature_extraction.text import TfidfTransformer\n",
        "from sklearn.naive_bayes import MultinomialNB\n",
        "from sklearn.pipeline import Pipeline\n",
        "from sklearn.tree import DecisionTreeClassifier\n",
        "from sklearn.ensemble import RandomForestClassifier\n",
        "from sklearn.model_selection import train_test_split\n",
        "from sklearn.metrics import classification_report, confusion_matrix, accuracy_score\n",
        "from sklearn import metrics\n",
        "from sklearn.svm import SVC\n",
        "\n",
        "\n"
      ]
    },
    {
      "cell_type": "code",
      "source": [
        "books = pd.read_csv('BooksDataSet.csv')"
      ],
      "metadata": {
        "id": "d3wyVagzZn2Y"
      },
      "execution_count": 2,
      "outputs": []
    },
    {
      "cell_type": "code",
      "source": [
        "books.head()"
      ],
      "metadata": {
        "colab": {
          "base_uri": "https://localhost:8080/",
          "height": 206
        },
        "id": "ZTG_uCg4Z5gc",
        "outputId": "23fc923f-409f-4390-b035-777c1d73a046"
      },
      "execution_count": 3,
      "outputs": [
        {
          "output_type": "execute_result",
          "data": {
            "text/plain": [
              "   Unnamed: 0   book_id                  book_name    genre  \\\n",
              "0           0   3248537          Drowned Wednesday  Fantasy   \n",
              "1           1  27796919              The Lost Hero  Fantasy   \n",
              "2           2   3910776  The Eyes of the Overworld  Fantasy   \n",
              "3           3   5969644            Magic's Promise  Fantasy   \n",
              "4           4   3173445             Taran Wanderer  Fantasy   \n",
              "\n",
              "                                             summary  \n",
              "0   Drowned Wednesday is the first Trustee among ...  \n",
              "1   As the book opens, Jason awakens on a school ...  \n",
              "2   Cugel is easily persuaded by the merchant Fia...  \n",
              "3   The book opens with Herald-Mage Vanyel return...  \n",
              "4   Taran and Gurgi have returned to Caer Dallben...  "
            ],
            "text/html": [
              "\n",
              "  <div id=\"df-8fbe7435-a434-4882-bfdb-556125d4679f\" class=\"colab-df-container\">\n",
              "    <div>\n",
              "<style scoped>\n",
              "    .dataframe tbody tr th:only-of-type {\n",
              "        vertical-align: middle;\n",
              "    }\n",
              "\n",
              "    .dataframe tbody tr th {\n",
              "        vertical-align: top;\n",
              "    }\n",
              "\n",
              "    .dataframe thead th {\n",
              "        text-align: right;\n",
              "    }\n",
              "</style>\n",
              "<table border=\"1\" class=\"dataframe\">\n",
              "  <thead>\n",
              "    <tr style=\"text-align: right;\">\n",
              "      <th></th>\n",
              "      <th>Unnamed: 0</th>\n",
              "      <th>book_id</th>\n",
              "      <th>book_name</th>\n",
              "      <th>genre</th>\n",
              "      <th>summary</th>\n",
              "    </tr>\n",
              "  </thead>\n",
              "  <tbody>\n",
              "    <tr>\n",
              "      <th>0</th>\n",
              "      <td>0</td>\n",
              "      <td>3248537</td>\n",
              "      <td>Drowned Wednesday</td>\n",
              "      <td>Fantasy</td>\n",
              "      <td>Drowned Wednesday is the first Trustee among ...</td>\n",
              "    </tr>\n",
              "    <tr>\n",
              "      <th>1</th>\n",
              "      <td>1</td>\n",
              "      <td>27796919</td>\n",
              "      <td>The Lost Hero</td>\n",
              "      <td>Fantasy</td>\n",
              "      <td>As the book opens, Jason awakens on a school ...</td>\n",
              "    </tr>\n",
              "    <tr>\n",
              "      <th>2</th>\n",
              "      <td>2</td>\n",
              "      <td>3910776</td>\n",
              "      <td>The Eyes of the Overworld</td>\n",
              "      <td>Fantasy</td>\n",
              "      <td>Cugel is easily persuaded by the merchant Fia...</td>\n",
              "    </tr>\n",
              "    <tr>\n",
              "      <th>3</th>\n",
              "      <td>3</td>\n",
              "      <td>5969644</td>\n",
              "      <td>Magic's Promise</td>\n",
              "      <td>Fantasy</td>\n",
              "      <td>The book opens with Herald-Mage Vanyel return...</td>\n",
              "    </tr>\n",
              "    <tr>\n",
              "      <th>4</th>\n",
              "      <td>4</td>\n",
              "      <td>3173445</td>\n",
              "      <td>Taran Wanderer</td>\n",
              "      <td>Fantasy</td>\n",
              "      <td>Taran and Gurgi have returned to Caer Dallben...</td>\n",
              "    </tr>\n",
              "  </tbody>\n",
              "</table>\n",
              "</div>\n",
              "    <div class=\"colab-df-buttons\">\n",
              "\n",
              "  <div class=\"colab-df-container\">\n",
              "    <button class=\"colab-df-convert\" onclick=\"convertToInteractive('df-8fbe7435-a434-4882-bfdb-556125d4679f')\"\n",
              "            title=\"Convert this dataframe to an interactive table.\"\n",
              "            style=\"display:none;\">\n",
              "\n",
              "  <svg xmlns=\"http://www.w3.org/2000/svg\" height=\"24px\" viewBox=\"0 -960 960 960\">\n",
              "    <path d=\"M120-120v-720h720v720H120Zm60-500h600v-160H180v160Zm220 220h160v-160H400v160Zm0 220h160v-160H400v160ZM180-400h160v-160H180v160Zm440 0h160v-160H620v160ZM180-180h160v-160H180v160Zm440 0h160v-160H620v160Z\"/>\n",
              "  </svg>\n",
              "    </button>\n",
              "\n",
              "  <style>\n",
              "    .colab-df-container {\n",
              "      display:flex;\n",
              "      gap: 12px;\n",
              "    }\n",
              "\n",
              "    .colab-df-convert {\n",
              "      background-color: #E8F0FE;\n",
              "      border: none;\n",
              "      border-radius: 50%;\n",
              "      cursor: pointer;\n",
              "      display: none;\n",
              "      fill: #1967D2;\n",
              "      height: 32px;\n",
              "      padding: 0 0 0 0;\n",
              "      width: 32px;\n",
              "    }\n",
              "\n",
              "    .colab-df-convert:hover {\n",
              "      background-color: #E2EBFA;\n",
              "      box-shadow: 0px 1px 2px rgba(60, 64, 67, 0.3), 0px 1px 3px 1px rgba(60, 64, 67, 0.15);\n",
              "      fill: #174EA6;\n",
              "    }\n",
              "\n",
              "    .colab-df-buttons div {\n",
              "      margin-bottom: 4px;\n",
              "    }\n",
              "\n",
              "    [theme=dark] .colab-df-convert {\n",
              "      background-color: #3B4455;\n",
              "      fill: #D2E3FC;\n",
              "    }\n",
              "\n",
              "    [theme=dark] .colab-df-convert:hover {\n",
              "      background-color: #434B5C;\n",
              "      box-shadow: 0px 1px 3px 1px rgba(0, 0, 0, 0.15);\n",
              "      filter: drop-shadow(0px 1px 2px rgba(0, 0, 0, 0.3));\n",
              "      fill: #FFFFFF;\n",
              "    }\n",
              "  </style>\n",
              "\n",
              "    <script>\n",
              "      const buttonEl =\n",
              "        document.querySelector('#df-8fbe7435-a434-4882-bfdb-556125d4679f button.colab-df-convert');\n",
              "      buttonEl.style.display =\n",
              "        google.colab.kernel.accessAllowed ? 'block' : 'none';\n",
              "\n",
              "      async function convertToInteractive(key) {\n",
              "        const element = document.querySelector('#df-8fbe7435-a434-4882-bfdb-556125d4679f');\n",
              "        const dataTable =\n",
              "          await google.colab.kernel.invokeFunction('convertToInteractive',\n",
              "                                                    [key], {});\n",
              "        if (!dataTable) return;\n",
              "\n",
              "        const docLinkHtml = 'Like what you see? Visit the ' +\n",
              "          '<a target=\"_blank\" href=https://colab.research.google.com/notebooks/data_table.ipynb>data table notebook</a>'\n",
              "          + ' to learn more about interactive tables.';\n",
              "        element.innerHTML = '';\n",
              "        dataTable['output_type'] = 'display_data';\n",
              "        await google.colab.output.renderOutput(dataTable, element);\n",
              "        const docLink = document.createElement('div');\n",
              "        docLink.innerHTML = docLinkHtml;\n",
              "        element.appendChild(docLink);\n",
              "      }\n",
              "    </script>\n",
              "  </div>\n",
              "\n",
              "\n",
              "<div id=\"df-70f6adca-bfaf-4fd1-bebd-cee14637bb51\">\n",
              "  <button class=\"colab-df-quickchart\" onclick=\"quickchart('df-70f6adca-bfaf-4fd1-bebd-cee14637bb51')\"\n",
              "            title=\"Suggest charts\"\n",
              "            style=\"display:none;\">\n",
              "\n",
              "<svg xmlns=\"http://www.w3.org/2000/svg\" height=\"24px\"viewBox=\"0 0 24 24\"\n",
              "     width=\"24px\">\n",
              "    <g>\n",
              "        <path d=\"M19 3H5c-1.1 0-2 .9-2 2v14c0 1.1.9 2 2 2h14c1.1 0 2-.9 2-2V5c0-1.1-.9-2-2-2zM9 17H7v-7h2v7zm4 0h-2V7h2v10zm4 0h-2v-4h2v4z\"/>\n",
              "    </g>\n",
              "</svg>\n",
              "  </button>\n",
              "\n",
              "<style>\n",
              "  .colab-df-quickchart {\n",
              "      --bg-color: #E8F0FE;\n",
              "      --fill-color: #1967D2;\n",
              "      --hover-bg-color: #E2EBFA;\n",
              "      --hover-fill-color: #174EA6;\n",
              "      --disabled-fill-color: #AAA;\n",
              "      --disabled-bg-color: #DDD;\n",
              "  }\n",
              "\n",
              "  [theme=dark] .colab-df-quickchart {\n",
              "      --bg-color: #3B4455;\n",
              "      --fill-color: #D2E3FC;\n",
              "      --hover-bg-color: #434B5C;\n",
              "      --hover-fill-color: #FFFFFF;\n",
              "      --disabled-bg-color: #3B4455;\n",
              "      --disabled-fill-color: #666;\n",
              "  }\n",
              "\n",
              "  .colab-df-quickchart {\n",
              "    background-color: var(--bg-color);\n",
              "    border: none;\n",
              "    border-radius: 50%;\n",
              "    cursor: pointer;\n",
              "    display: none;\n",
              "    fill: var(--fill-color);\n",
              "    height: 32px;\n",
              "    padding: 0;\n",
              "    width: 32px;\n",
              "  }\n",
              "\n",
              "  .colab-df-quickchart:hover {\n",
              "    background-color: var(--hover-bg-color);\n",
              "    box-shadow: 0 1px 2px rgba(60, 64, 67, 0.3), 0 1px 3px 1px rgba(60, 64, 67, 0.15);\n",
              "    fill: var(--button-hover-fill-color);\n",
              "  }\n",
              "\n",
              "  .colab-df-quickchart-complete:disabled,\n",
              "  .colab-df-quickchart-complete:disabled:hover {\n",
              "    background-color: var(--disabled-bg-color);\n",
              "    fill: var(--disabled-fill-color);\n",
              "    box-shadow: none;\n",
              "  }\n",
              "\n",
              "  .colab-df-spinner {\n",
              "    border: 2px solid var(--fill-color);\n",
              "    border-color: transparent;\n",
              "    border-bottom-color: var(--fill-color);\n",
              "    animation:\n",
              "      spin 1s steps(1) infinite;\n",
              "  }\n",
              "\n",
              "  @keyframes spin {\n",
              "    0% {\n",
              "      border-color: transparent;\n",
              "      border-bottom-color: var(--fill-color);\n",
              "      border-left-color: var(--fill-color);\n",
              "    }\n",
              "    20% {\n",
              "      border-color: transparent;\n",
              "      border-left-color: var(--fill-color);\n",
              "      border-top-color: var(--fill-color);\n",
              "    }\n",
              "    30% {\n",
              "      border-color: transparent;\n",
              "      border-left-color: var(--fill-color);\n",
              "      border-top-color: var(--fill-color);\n",
              "      border-right-color: var(--fill-color);\n",
              "    }\n",
              "    40% {\n",
              "      border-color: transparent;\n",
              "      border-right-color: var(--fill-color);\n",
              "      border-top-color: var(--fill-color);\n",
              "    }\n",
              "    60% {\n",
              "      border-color: transparent;\n",
              "      border-right-color: var(--fill-color);\n",
              "    }\n",
              "    80% {\n",
              "      border-color: transparent;\n",
              "      border-right-color: var(--fill-color);\n",
              "      border-bottom-color: var(--fill-color);\n",
              "    }\n",
              "    90% {\n",
              "      border-color: transparent;\n",
              "      border-bottom-color: var(--fill-color);\n",
              "    }\n",
              "  }\n",
              "</style>\n",
              "\n",
              "  <script>\n",
              "    async function quickchart(key) {\n",
              "      const quickchartButtonEl =\n",
              "        document.querySelector('#' + key + ' button');\n",
              "      quickchartButtonEl.disabled = true;  // To prevent multiple clicks.\n",
              "      quickchartButtonEl.classList.add('colab-df-spinner');\n",
              "      try {\n",
              "        const charts = await google.colab.kernel.invokeFunction(\n",
              "            'suggestCharts', [key], {});\n",
              "      } catch (error) {\n",
              "        console.error('Error during call to suggestCharts:', error);\n",
              "      }\n",
              "      quickchartButtonEl.classList.remove('colab-df-spinner');\n",
              "      quickchartButtonEl.classList.add('colab-df-quickchart-complete');\n",
              "    }\n",
              "    (() => {\n",
              "      let quickchartButtonEl =\n",
              "        document.querySelector('#df-70f6adca-bfaf-4fd1-bebd-cee14637bb51 button');\n",
              "      quickchartButtonEl.style.display =\n",
              "        google.colab.kernel.accessAllowed ? 'block' : 'none';\n",
              "    })();\n",
              "  </script>\n",
              "</div>\n",
              "\n",
              "    </div>\n",
              "  </div>\n"
            ],
            "application/vnd.google.colaboratory.intrinsic+json": {
              "type": "dataframe",
              "variable_name": "books",
              "summary": "{\n  \"name\": \"books\",\n  \"rows\": 3000,\n  \"fields\": [\n    {\n      \"column\": \"Unnamed: 0\",\n      \"properties\": {\n        \"dtype\": \"number\",\n        \"std\": 866,\n        \"min\": 0,\n        \"max\": 2999,\n        \"num_unique_values\": 3000,\n        \"samples\": [\n          1801,\n          1190,\n          1817\n        ],\n        \"semantic_type\": \"\",\n        \"description\": \"\"\n      }\n    },\n    {\n      \"column\": \"book_id\",\n      \"properties\": {\n        \"dtype\": \"number\",\n        \"std\": 8375374,\n        \"min\": 843,\n        \"max\": 37054020,\n        \"num_unique_values\": 3000,\n        \"samples\": [\n          2795327,\n          9350572,\n          9366759\n        ],\n        \"semantic_type\": \"\",\n        \"description\": \"\"\n      }\n    },\n    {\n      \"column\": \"book_name\",\n      \"properties\": {\n        \"dtype\": \"string\",\n        \"num_unique_values\": 2970,\n        \"samples\": [\n          \"Some of Your Blood\",\n          \"To Fear A Painted Devil\",\n          \"The Wolf's Hour\"\n        ],\n        \"semantic_type\": \"\",\n        \"description\": \"\"\n      }\n    },\n    {\n      \"column\": \"genre\",\n      \"properties\": {\n        \"dtype\": \"category\",\n        \"num_unique_values\": 6,\n        \"samples\": [\n          \"Fantasy\",\n          \"Science Fiction\",\n          \"Thriller\"\n        ],\n        \"semantic_type\": \"\",\n        \"description\": \"\"\n      }\n    },\n    {\n      \"column\": \"summary\",\n      \"properties\": {\n        \"dtype\": \"string\",\n        \"num_unique_values\": 2998,\n        \"samples\": [\n          \" It is Christmas Eve and everyone in the house hears the crashing of furniture, followed by a wailing and hideous scream. When they get to Simeon Lee's room, they find it locked and they have to break the door down. When they finally get through the door, they find heavy furniture overturned and Simeon Lee dead, his throat slit, in a great pool of blood. Superintendent Sugden notices Pilar Estravados pick up something from the floor. She tries to conceal what she picked up, but when pressed, opens her hand to show a small bit of rubber and a small object made of wood. Superintendent Sugden explains that he is in the house by prior arrangement with the victim, who confided to him the theft of a substantial quantity of uncut diamonds from his safe. When Poirot is called in to investigate, there are therefore several main problems: who killed the victim? How was the victim killed inside a locked room? Was the murder connected to the theft of the diamonds? And what is the significance of the small triangle of rubber and the peg that Sugden is able to provide when reminded by Poirot of the clue that had been picked up by Pilar? Poirot\\u2019s investigation explores the nature of the victim \\u2013 a methodical and vengeful man \\u2013 and the way that these characteristics come out in his children. He seems focused on the idea that one of the immediate family is the murderer. When the butler mentions his confusion about the identities of the house guests, Poirot realizes that the four legitimate sons may not be the only heirs of Simeon\\u2019s temperament. The final major clue is dropped by Pilar, who while playing with balloons and one bursts, lets slip that what she found on the floor must also have been a balloon. She knows more than she realizes. Poirot warns her to be careful.\",\n          \" The story opens in the lower levels of Coruscant in 24 ABY, only a few months prior to the Yuuzhan Vong Invasion. Boba Fett has just chased down another bounty, a Rodian art dealer who sold fake works to Gebbu the Hutt. Meanwhile on Nar Shaddaa, Nom Anor, posing under the alias Udelen, recruits a Mandalorian named Goran Beviin to assassinate a politician on Ter Abbes, a grim industrial planet off the Perlemian Trade Route. Bevin quickly realizes that if the man is killed it will trigger a civil war, but even after he voices his misgivings to Boba he still carries out the mission. Nom Anor notes that Bevin did an efficient job of removing the target and plans to meet Fett for the second time on Mandalore and the capital city, Kedalbe. Nom Anor notes that Mandalore is already on his list of a world that will be harder to subdue. Anor arrives on the planet, again under the alias of Udelen and provides Fett with the location of a rendezvous where he and a select number of Fett's troops are to meet. Anor plans to reveal his true nature to Fett as the location lies along the main invasion route the Yuuzhan Vong will take into the galaxy. As the Mandalorian fleet awaits the arrival of their client, Bevin becomes impatient and scouts around for Udelen. He soon encounters what he assumes to be an asteroid, but is actually a Yuuzhan Vong ship. Unsure of what to make of their new arrivals, the Mandalorians enter battle formation and wait. Soon though, Nom Anor makes contact with Fett and asks him to board the lead ship for a face to face meeting. Once aboard the miid ro'ik warship Fett orders Bevin to discreetly gather any samples he can, while Fett runs scans with his helmet. While touring the ship, Anor explains the Yuuzhan Vong vision for the galaxy and how the Mandalorians will play a part in shaping it and both Fett and Bevin witness first hand the plans the Vong have for the humans they capture. Anor then gives Fett the plans for the next mission he has planned for the Mandalorians, to secure a landing zone on Birgis, in exchange for their continued service the Mandalore sector will be left alone. Fett knows this is a lie and that the Vong will come for them eventually, he plans to ensure he's ready when that day comes. Fett plans to use the inside track he now has to do as much damage to the invaders as possible, while he appears to help them he will do all he can to hinder them at the same time. Nom Anor amends his report, instead believing that enslaving the Mandalorians is the best way of dealing with them. One week after the invasion of Helska 4, the Mandalorians assault the spaceport on Birgis. Fett, Bevin and Cham, another Mandalorian warrior, spearhead the assault. Fett hopes to use this moment to pass on vital intel to the New Republic. Passing the intel on to a pilot during the assault, Fett only hopes that the Republic won't blow their cover. Typically, the Yuuzhan Vong leave no survivors at the spaceport. New Holgha, however, the Vong's next target remains unevacuated, the Republic hasn't acted on the intel, obviously not trusting its source. With the planets defenses sabotaged and its troops relocated elsewhere, the world falls without a serious fight. Instead, the Republic diverted troops to Pedd 4 and now New Holgha suffers, as Fett observes a miit ro'ik digest everything around it for fuel, he is reminded of the Sarlacc. As he contemplates a better and more reliable way to pass intel to the Republic, a Vong warrior asks him to assist in killing a Jedi. While Bevin stalls the Vong, Fett and a few others subdue the Jedi, who is skeptical at first, but then believes Fett and agrees to take the information off planet. As the Jedi leaves for his hidden ship, Bevin arrives, followed by the Vong warrior. When he asks what happened to the Jedi, Fett and the others kill him, with Bevin using his crushgaunts to kill the warrior. While the others collect samples from the dead warrior, Bevin scalps him for a trophy. Briika, a Mandalorian female warrior, is fatally wounded in the encounter though and dies when she reaches Slave 1. Bevin, keeping a promise he made to her, adopts Dinua, Briika's daughter as his own. Nom Anor lays plans to accelerate the coming invasion of Mandalore, he believes that the reports of the Mandalorians savagery have been greatly exaggerated. He still plans to use them, keeping them undercover from the rest of the Vong warriors, but ultimately he plans to erase their culture from the galaxy. Fett, traveling across Mandalore space reflects that his plan is so far working fine. The Republic believe the Mandalorians are in league with the Vong, while his own engineers are working on weapons designed specifically to fight them. Then an X-Wing drops into pursuit course, but when it makes contact through one of Fett's own intel nodes he stays his trigger finger. The Jedi he saved on New Holgha, a man named Kubariet asks to meet face to face. Working with New Republic Intelligence, Kubariet confirms that Fett has a deal, the Mandalorians will continue to masquerade as Vong mercenaries while at the same time passing intel to the Republic. Before he leaves, Kubariet asks if Fett will spare a few of his best commandos to act as a kind of new Cuy'val Dar to train planetary militias to fight the Vong. Kubariet gives Fett a secure datachip, if he wants to pass on intel then he can only do it through the Jedi, in return Fett hands over 'spare parts' he's collected from the Vong. When Kubariet asks if there's anything more he can do for Fett he tells him to make sure everyone knows that a Mandalorian named Briika Jeban died saving a citizen of the New Republic. When Kubariet asks who she saved, Fett simply says: 'You, Jedi, you.'\",\n          \" Deryni Checkmate takes places in March 1121, four months after the coronation of fourteen-year old King Kelson Haldane. The novel opens with the rabidly anti-Deryni leader of the Holy Church, Archbishop Edmund Loris, signing a letter that demands that the Deryni Duke of Corwyn, Alaric Morgan, recant his magical powers and submit to a life of penance. If he fails to do so, Loris threatens to excommunicate Morgan and place his entire duchy under interdict. Additionally, Morgan's cousin, Monsignor Duncan McLain, is suspended and summoned to an ecclesiastical trial to answer for his part in the events surrounding Kelson's coronation. After being warned of the threat, Kelson sends Duncan to warn Morgan of the upcoming trouble, fearing that Duncan's hidden Deryni heritage may be revealed by a trial. Duncan travels to Morgan's capital city of Coroth, where he informs his cousin of Loris' threat. In addition to the ecclesiastical threat, Morgan's duchy is being ravaged by an anti-Deryni fanatic named Warin de Grey, and the neighboring kingdom of Torenth is preparing to launch an invasion of Gwynedd. Fearing that an internal Gwyneddan conflict will weaken the kingdom prior to fighting an external enemy, Morgan and Duncan eventually decide to travel to the city of Dhassa and personally appeal to the Curia of Bishops. However, en route to Dhassa, Morgan is drugged and captured by Warin, who intends to burn the Deryni duke as a heretic. Duncan manages to rescue his cousin, but is forced to reveal his Deryni powers to ensure their escape. When the Curia learns of the cousins' actions, the two are soon excommunicated. Morgan and Duncan realize that appealing to the Curia is no longer an option, so they set out to meet with Kelson. Loris attempts to place Corwyn under Interdict, but a group of bishops refuses to participate in an action that would punish an entire duchy for the actions of its duke. Loris rages against the rebels, but he and his supporters are thrown out of Dhassa, effectively splitting the Curia. Kelson has traveled to the city of Culdi to attend the wedding of Morgan's sister, Bronwyn, and Duncan's half-brother, Kevin. Unknown to anyone, a jealous architect named Rimmell has fallen in love with Bronwyn and seeks to win her affections through the use of a love charm he acquires from an old witch woman. However, Rimmell's plan backfires horribly, and the charm kills both Bronwyn and Kevin. By the time Morgan and Duncan arrive in Culdi, Rimmell has been executed for his crime. Though Morgan is crushed with grief over the death of his sister, Kelson reminds him that he must still see to his duties. Facing an internal ecclesiastical schism, rebel fanatics ravaging his lands, and an imminent invasion from Torenth, Kelson cannot allow Morgan to wallow in his grief. Morgan agrees, and returns to his duties in service to the throne of Gwynedd.\"\n        ],\n        \"semantic_type\": \"\",\n        \"description\": \"\"\n      }\n    }\n  ]\n}"
            }
          },
          "metadata": {},
          "execution_count": 3
        }
      ]
    },
    {
      "cell_type": "code",
      "source": [
        "#removing the unamed: 0\n",
        "\n",
        "books = books[['book_id', 'book_name', 'genre', 'summary']]\n",
        "books.head(4)"
      ],
      "metadata": {
        "colab": {
          "base_uri": "https://localhost:8080/",
          "height": 175
        },
        "id": "laPl4b9fZ9wd",
        "outputId": "272814d2-60b6-4534-d16b-aeefcc0040cd"
      },
      "execution_count": 4,
      "outputs": [
        {
          "output_type": "execute_result",
          "data": {
            "text/plain": [
              "    book_id                  book_name    genre  \\\n",
              "0   3248537          Drowned Wednesday  Fantasy   \n",
              "1  27796919              The Lost Hero  Fantasy   \n",
              "2   3910776  The Eyes of the Overworld  Fantasy   \n",
              "3   5969644            Magic's Promise  Fantasy   \n",
              "\n",
              "                                             summary  \n",
              "0   Drowned Wednesday is the first Trustee among ...  \n",
              "1   As the book opens, Jason awakens on a school ...  \n",
              "2   Cugel is easily persuaded by the merchant Fia...  \n",
              "3   The book opens with Herald-Mage Vanyel return...  "
            ],
            "text/html": [
              "\n",
              "  <div id=\"df-1b4036c9-6317-4a99-8237-2072774ebfe4\" class=\"colab-df-container\">\n",
              "    <div>\n",
              "<style scoped>\n",
              "    .dataframe tbody tr th:only-of-type {\n",
              "        vertical-align: middle;\n",
              "    }\n",
              "\n",
              "    .dataframe tbody tr th {\n",
              "        vertical-align: top;\n",
              "    }\n",
              "\n",
              "    .dataframe thead th {\n",
              "        text-align: right;\n",
              "    }\n",
              "</style>\n",
              "<table border=\"1\" class=\"dataframe\">\n",
              "  <thead>\n",
              "    <tr style=\"text-align: right;\">\n",
              "      <th></th>\n",
              "      <th>book_id</th>\n",
              "      <th>book_name</th>\n",
              "      <th>genre</th>\n",
              "      <th>summary</th>\n",
              "    </tr>\n",
              "  </thead>\n",
              "  <tbody>\n",
              "    <tr>\n",
              "      <th>0</th>\n",
              "      <td>3248537</td>\n",
              "      <td>Drowned Wednesday</td>\n",
              "      <td>Fantasy</td>\n",
              "      <td>Drowned Wednesday is the first Trustee among ...</td>\n",
              "    </tr>\n",
              "    <tr>\n",
              "      <th>1</th>\n",
              "      <td>27796919</td>\n",
              "      <td>The Lost Hero</td>\n",
              "      <td>Fantasy</td>\n",
              "      <td>As the book opens, Jason awakens on a school ...</td>\n",
              "    </tr>\n",
              "    <tr>\n",
              "      <th>2</th>\n",
              "      <td>3910776</td>\n",
              "      <td>The Eyes of the Overworld</td>\n",
              "      <td>Fantasy</td>\n",
              "      <td>Cugel is easily persuaded by the merchant Fia...</td>\n",
              "    </tr>\n",
              "    <tr>\n",
              "      <th>3</th>\n",
              "      <td>5969644</td>\n",
              "      <td>Magic's Promise</td>\n",
              "      <td>Fantasy</td>\n",
              "      <td>The book opens with Herald-Mage Vanyel return...</td>\n",
              "    </tr>\n",
              "  </tbody>\n",
              "</table>\n",
              "</div>\n",
              "    <div class=\"colab-df-buttons\">\n",
              "\n",
              "  <div class=\"colab-df-container\">\n",
              "    <button class=\"colab-df-convert\" onclick=\"convertToInteractive('df-1b4036c9-6317-4a99-8237-2072774ebfe4')\"\n",
              "            title=\"Convert this dataframe to an interactive table.\"\n",
              "            style=\"display:none;\">\n",
              "\n",
              "  <svg xmlns=\"http://www.w3.org/2000/svg\" height=\"24px\" viewBox=\"0 -960 960 960\">\n",
              "    <path d=\"M120-120v-720h720v720H120Zm60-500h600v-160H180v160Zm220 220h160v-160H400v160Zm0 220h160v-160H400v160ZM180-400h160v-160H180v160Zm440 0h160v-160H620v160ZM180-180h160v-160H180v160Zm440 0h160v-160H620v160Z\"/>\n",
              "  </svg>\n",
              "    </button>\n",
              "\n",
              "  <style>\n",
              "    .colab-df-container {\n",
              "      display:flex;\n",
              "      gap: 12px;\n",
              "    }\n",
              "\n",
              "    .colab-df-convert {\n",
              "      background-color: #E8F0FE;\n",
              "      border: none;\n",
              "      border-radius: 50%;\n",
              "      cursor: pointer;\n",
              "      display: none;\n",
              "      fill: #1967D2;\n",
              "      height: 32px;\n",
              "      padding: 0 0 0 0;\n",
              "      width: 32px;\n",
              "    }\n",
              "\n",
              "    .colab-df-convert:hover {\n",
              "      background-color: #E2EBFA;\n",
              "      box-shadow: 0px 1px 2px rgba(60, 64, 67, 0.3), 0px 1px 3px 1px rgba(60, 64, 67, 0.15);\n",
              "      fill: #174EA6;\n",
              "    }\n",
              "\n",
              "    .colab-df-buttons div {\n",
              "      margin-bottom: 4px;\n",
              "    }\n",
              "\n",
              "    [theme=dark] .colab-df-convert {\n",
              "      background-color: #3B4455;\n",
              "      fill: #D2E3FC;\n",
              "    }\n",
              "\n",
              "    [theme=dark] .colab-df-convert:hover {\n",
              "      background-color: #434B5C;\n",
              "      box-shadow: 0px 1px 3px 1px rgba(0, 0, 0, 0.15);\n",
              "      filter: drop-shadow(0px 1px 2px rgba(0, 0, 0, 0.3));\n",
              "      fill: #FFFFFF;\n",
              "    }\n",
              "  </style>\n",
              "\n",
              "    <script>\n",
              "      const buttonEl =\n",
              "        document.querySelector('#df-1b4036c9-6317-4a99-8237-2072774ebfe4 button.colab-df-convert');\n",
              "      buttonEl.style.display =\n",
              "        google.colab.kernel.accessAllowed ? 'block' : 'none';\n",
              "\n",
              "      async function convertToInteractive(key) {\n",
              "        const element = document.querySelector('#df-1b4036c9-6317-4a99-8237-2072774ebfe4');\n",
              "        const dataTable =\n",
              "          await google.colab.kernel.invokeFunction('convertToInteractive',\n",
              "                                                    [key], {});\n",
              "        if (!dataTable) return;\n",
              "\n",
              "        const docLinkHtml = 'Like what you see? Visit the ' +\n",
              "          '<a target=\"_blank\" href=https://colab.research.google.com/notebooks/data_table.ipynb>data table notebook</a>'\n",
              "          + ' to learn more about interactive tables.';\n",
              "        element.innerHTML = '';\n",
              "        dataTable['output_type'] = 'display_data';\n",
              "        await google.colab.output.renderOutput(dataTable, element);\n",
              "        const docLink = document.createElement('div');\n",
              "        docLink.innerHTML = docLinkHtml;\n",
              "        element.appendChild(docLink);\n",
              "      }\n",
              "    </script>\n",
              "  </div>\n",
              "\n",
              "\n",
              "<div id=\"df-748bb290-d129-40bd-91ba-4b1affc16676\">\n",
              "  <button class=\"colab-df-quickchart\" onclick=\"quickchart('df-748bb290-d129-40bd-91ba-4b1affc16676')\"\n",
              "            title=\"Suggest charts\"\n",
              "            style=\"display:none;\">\n",
              "\n",
              "<svg xmlns=\"http://www.w3.org/2000/svg\" height=\"24px\"viewBox=\"0 0 24 24\"\n",
              "     width=\"24px\">\n",
              "    <g>\n",
              "        <path d=\"M19 3H5c-1.1 0-2 .9-2 2v14c0 1.1.9 2 2 2h14c1.1 0 2-.9 2-2V5c0-1.1-.9-2-2-2zM9 17H7v-7h2v7zm4 0h-2V7h2v10zm4 0h-2v-4h2v4z\"/>\n",
              "    </g>\n",
              "</svg>\n",
              "  </button>\n",
              "\n",
              "<style>\n",
              "  .colab-df-quickchart {\n",
              "      --bg-color: #E8F0FE;\n",
              "      --fill-color: #1967D2;\n",
              "      --hover-bg-color: #E2EBFA;\n",
              "      --hover-fill-color: #174EA6;\n",
              "      --disabled-fill-color: #AAA;\n",
              "      --disabled-bg-color: #DDD;\n",
              "  }\n",
              "\n",
              "  [theme=dark] .colab-df-quickchart {\n",
              "      --bg-color: #3B4455;\n",
              "      --fill-color: #D2E3FC;\n",
              "      --hover-bg-color: #434B5C;\n",
              "      --hover-fill-color: #FFFFFF;\n",
              "      --disabled-bg-color: #3B4455;\n",
              "      --disabled-fill-color: #666;\n",
              "  }\n",
              "\n",
              "  .colab-df-quickchart {\n",
              "    background-color: var(--bg-color);\n",
              "    border: none;\n",
              "    border-radius: 50%;\n",
              "    cursor: pointer;\n",
              "    display: none;\n",
              "    fill: var(--fill-color);\n",
              "    height: 32px;\n",
              "    padding: 0;\n",
              "    width: 32px;\n",
              "  }\n",
              "\n",
              "  .colab-df-quickchart:hover {\n",
              "    background-color: var(--hover-bg-color);\n",
              "    box-shadow: 0 1px 2px rgba(60, 64, 67, 0.3), 0 1px 3px 1px rgba(60, 64, 67, 0.15);\n",
              "    fill: var(--button-hover-fill-color);\n",
              "  }\n",
              "\n",
              "  .colab-df-quickchart-complete:disabled,\n",
              "  .colab-df-quickchart-complete:disabled:hover {\n",
              "    background-color: var(--disabled-bg-color);\n",
              "    fill: var(--disabled-fill-color);\n",
              "    box-shadow: none;\n",
              "  }\n",
              "\n",
              "  .colab-df-spinner {\n",
              "    border: 2px solid var(--fill-color);\n",
              "    border-color: transparent;\n",
              "    border-bottom-color: var(--fill-color);\n",
              "    animation:\n",
              "      spin 1s steps(1) infinite;\n",
              "  }\n",
              "\n",
              "  @keyframes spin {\n",
              "    0% {\n",
              "      border-color: transparent;\n",
              "      border-bottom-color: var(--fill-color);\n",
              "      border-left-color: var(--fill-color);\n",
              "    }\n",
              "    20% {\n",
              "      border-color: transparent;\n",
              "      border-left-color: var(--fill-color);\n",
              "      border-top-color: var(--fill-color);\n",
              "    }\n",
              "    30% {\n",
              "      border-color: transparent;\n",
              "      border-left-color: var(--fill-color);\n",
              "      border-top-color: var(--fill-color);\n",
              "      border-right-color: var(--fill-color);\n",
              "    }\n",
              "    40% {\n",
              "      border-color: transparent;\n",
              "      border-right-color: var(--fill-color);\n",
              "      border-top-color: var(--fill-color);\n",
              "    }\n",
              "    60% {\n",
              "      border-color: transparent;\n",
              "      border-right-color: var(--fill-color);\n",
              "    }\n",
              "    80% {\n",
              "      border-color: transparent;\n",
              "      border-right-color: var(--fill-color);\n",
              "      border-bottom-color: var(--fill-color);\n",
              "    }\n",
              "    90% {\n",
              "      border-color: transparent;\n",
              "      border-bottom-color: var(--fill-color);\n",
              "    }\n",
              "  }\n",
              "</style>\n",
              "\n",
              "  <script>\n",
              "    async function quickchart(key) {\n",
              "      const quickchartButtonEl =\n",
              "        document.querySelector('#' + key + ' button');\n",
              "      quickchartButtonEl.disabled = true;  // To prevent multiple clicks.\n",
              "      quickchartButtonEl.classList.add('colab-df-spinner');\n",
              "      try {\n",
              "        const charts = await google.colab.kernel.invokeFunction(\n",
              "            'suggestCharts', [key], {});\n",
              "      } catch (error) {\n",
              "        console.error('Error during call to suggestCharts:', error);\n",
              "      }\n",
              "      quickchartButtonEl.classList.remove('colab-df-spinner');\n",
              "      quickchartButtonEl.classList.add('colab-df-quickchart-complete');\n",
              "    }\n",
              "    (() => {\n",
              "      let quickchartButtonEl =\n",
              "        document.querySelector('#df-748bb290-d129-40bd-91ba-4b1affc16676 button');\n",
              "      quickchartButtonEl.style.display =\n",
              "        google.colab.kernel.accessAllowed ? 'block' : 'none';\n",
              "    })();\n",
              "  </script>\n",
              "</div>\n",
              "\n",
              "    </div>\n",
              "  </div>\n"
            ],
            "application/vnd.google.colaboratory.intrinsic+json": {
              "type": "dataframe",
              "variable_name": "books",
              "summary": "{\n  \"name\": \"books\",\n  \"rows\": 3000,\n  \"fields\": [\n    {\n      \"column\": \"book_id\",\n      \"properties\": {\n        \"dtype\": \"number\",\n        \"std\": 8375374,\n        \"min\": 843,\n        \"max\": 37054020,\n        \"num_unique_values\": 3000,\n        \"samples\": [\n          2795327,\n          9350572,\n          9366759\n        ],\n        \"semantic_type\": \"\",\n        \"description\": \"\"\n      }\n    },\n    {\n      \"column\": \"book_name\",\n      \"properties\": {\n        \"dtype\": \"string\",\n        \"num_unique_values\": 2970,\n        \"samples\": [\n          \"Some of Your Blood\",\n          \"To Fear A Painted Devil\",\n          \"The Wolf's Hour\"\n        ],\n        \"semantic_type\": \"\",\n        \"description\": \"\"\n      }\n    },\n    {\n      \"column\": \"genre\",\n      \"properties\": {\n        \"dtype\": \"category\",\n        \"num_unique_values\": 6,\n        \"samples\": [\n          \"Fantasy\",\n          \"Science Fiction\",\n          \"Thriller\"\n        ],\n        \"semantic_type\": \"\",\n        \"description\": \"\"\n      }\n    },\n    {\n      \"column\": \"summary\",\n      \"properties\": {\n        \"dtype\": \"string\",\n        \"num_unique_values\": 2998,\n        \"samples\": [\n          \" It is Christmas Eve and everyone in the house hears the crashing of furniture, followed by a wailing and hideous scream. When they get to Simeon Lee's room, they find it locked and they have to break the door down. When they finally get through the door, they find heavy furniture overturned and Simeon Lee dead, his throat slit, in a great pool of blood. Superintendent Sugden notices Pilar Estravados pick up something from the floor. She tries to conceal what she picked up, but when pressed, opens her hand to show a small bit of rubber and a small object made of wood. Superintendent Sugden explains that he is in the house by prior arrangement with the victim, who confided to him the theft of a substantial quantity of uncut diamonds from his safe. When Poirot is called in to investigate, there are therefore several main problems: who killed the victim? How was the victim killed inside a locked room? Was the murder connected to the theft of the diamonds? And what is the significance of the small triangle of rubber and the peg that Sugden is able to provide when reminded by Poirot of the clue that had been picked up by Pilar? Poirot\\u2019s investigation explores the nature of the victim \\u2013 a methodical and vengeful man \\u2013 and the way that these characteristics come out in his children. He seems focused on the idea that one of the immediate family is the murderer. When the butler mentions his confusion about the identities of the house guests, Poirot realizes that the four legitimate sons may not be the only heirs of Simeon\\u2019s temperament. The final major clue is dropped by Pilar, who while playing with balloons and one bursts, lets slip that what she found on the floor must also have been a balloon. She knows more than she realizes. Poirot warns her to be careful.\",\n          \" The story opens in the lower levels of Coruscant in 24 ABY, only a few months prior to the Yuuzhan Vong Invasion. Boba Fett has just chased down another bounty, a Rodian art dealer who sold fake works to Gebbu the Hutt. Meanwhile on Nar Shaddaa, Nom Anor, posing under the alias Udelen, recruits a Mandalorian named Goran Beviin to assassinate a politician on Ter Abbes, a grim industrial planet off the Perlemian Trade Route. Bevin quickly realizes that if the man is killed it will trigger a civil war, but even after he voices his misgivings to Boba he still carries out the mission. Nom Anor notes that Bevin did an efficient job of removing the target and plans to meet Fett for the second time on Mandalore and the capital city, Kedalbe. Nom Anor notes that Mandalore is already on his list of a world that will be harder to subdue. Anor arrives on the planet, again under the alias of Udelen and provides Fett with the location of a rendezvous where he and a select number of Fett's troops are to meet. Anor plans to reveal his true nature to Fett as the location lies along the main invasion route the Yuuzhan Vong will take into the galaxy. As the Mandalorian fleet awaits the arrival of their client, Bevin becomes impatient and scouts around for Udelen. He soon encounters what he assumes to be an asteroid, but is actually a Yuuzhan Vong ship. Unsure of what to make of their new arrivals, the Mandalorians enter battle formation and wait. Soon though, Nom Anor makes contact with Fett and asks him to board the lead ship for a face to face meeting. Once aboard the miid ro'ik warship Fett orders Bevin to discreetly gather any samples he can, while Fett runs scans with his helmet. While touring the ship, Anor explains the Yuuzhan Vong vision for the galaxy and how the Mandalorians will play a part in shaping it and both Fett and Bevin witness first hand the plans the Vong have for the humans they capture. Anor then gives Fett the plans for the next mission he has planned for the Mandalorians, to secure a landing zone on Birgis, in exchange for their continued service the Mandalore sector will be left alone. Fett knows this is a lie and that the Vong will come for them eventually, he plans to ensure he's ready when that day comes. Fett plans to use the inside track he now has to do as much damage to the invaders as possible, while he appears to help them he will do all he can to hinder them at the same time. Nom Anor amends his report, instead believing that enslaving the Mandalorians is the best way of dealing with them. One week after the invasion of Helska 4, the Mandalorians assault the spaceport on Birgis. Fett, Bevin and Cham, another Mandalorian warrior, spearhead the assault. Fett hopes to use this moment to pass on vital intel to the New Republic. Passing the intel on to a pilot during the assault, Fett only hopes that the Republic won't blow their cover. Typically, the Yuuzhan Vong leave no survivors at the spaceport. New Holgha, however, the Vong's next target remains unevacuated, the Republic hasn't acted on the intel, obviously not trusting its source. With the planets defenses sabotaged and its troops relocated elsewhere, the world falls without a serious fight. Instead, the Republic diverted troops to Pedd 4 and now New Holgha suffers, as Fett observes a miit ro'ik digest everything around it for fuel, he is reminded of the Sarlacc. As he contemplates a better and more reliable way to pass intel to the Republic, a Vong warrior asks him to assist in killing a Jedi. While Bevin stalls the Vong, Fett and a few others subdue the Jedi, who is skeptical at first, but then believes Fett and agrees to take the information off planet. As the Jedi leaves for his hidden ship, Bevin arrives, followed by the Vong warrior. When he asks what happened to the Jedi, Fett and the others kill him, with Bevin using his crushgaunts to kill the warrior. While the others collect samples from the dead warrior, Bevin scalps him for a trophy. Briika, a Mandalorian female warrior, is fatally wounded in the encounter though and dies when she reaches Slave 1. Bevin, keeping a promise he made to her, adopts Dinua, Briika's daughter as his own. Nom Anor lays plans to accelerate the coming invasion of Mandalore, he believes that the reports of the Mandalorians savagery have been greatly exaggerated. He still plans to use them, keeping them undercover from the rest of the Vong warriors, but ultimately he plans to erase their culture from the galaxy. Fett, traveling across Mandalore space reflects that his plan is so far working fine. The Republic believe the Mandalorians are in league with the Vong, while his own engineers are working on weapons designed specifically to fight them. Then an X-Wing drops into pursuit course, but when it makes contact through one of Fett's own intel nodes he stays his trigger finger. The Jedi he saved on New Holgha, a man named Kubariet asks to meet face to face. Working with New Republic Intelligence, Kubariet confirms that Fett has a deal, the Mandalorians will continue to masquerade as Vong mercenaries while at the same time passing intel to the Republic. Before he leaves, Kubariet asks if Fett will spare a few of his best commandos to act as a kind of new Cuy'val Dar to train planetary militias to fight the Vong. Kubariet gives Fett a secure datachip, if he wants to pass on intel then he can only do it through the Jedi, in return Fett hands over 'spare parts' he's collected from the Vong. When Kubariet asks if there's anything more he can do for Fett he tells him to make sure everyone knows that a Mandalorian named Briika Jeban died saving a citizen of the New Republic. When Kubariet asks who she saved, Fett simply says: 'You, Jedi, you.'\",\n          \" Deryni Checkmate takes places in March 1121, four months after the coronation of fourteen-year old King Kelson Haldane. The novel opens with the rabidly anti-Deryni leader of the Holy Church, Archbishop Edmund Loris, signing a letter that demands that the Deryni Duke of Corwyn, Alaric Morgan, recant his magical powers and submit to a life of penance. If he fails to do so, Loris threatens to excommunicate Morgan and place his entire duchy under interdict. Additionally, Morgan's cousin, Monsignor Duncan McLain, is suspended and summoned to an ecclesiastical trial to answer for his part in the events surrounding Kelson's coronation. After being warned of the threat, Kelson sends Duncan to warn Morgan of the upcoming trouble, fearing that Duncan's hidden Deryni heritage may be revealed by a trial. Duncan travels to Morgan's capital city of Coroth, where he informs his cousin of Loris' threat. In addition to the ecclesiastical threat, Morgan's duchy is being ravaged by an anti-Deryni fanatic named Warin de Grey, and the neighboring kingdom of Torenth is preparing to launch an invasion of Gwynedd. Fearing that an internal Gwyneddan conflict will weaken the kingdom prior to fighting an external enemy, Morgan and Duncan eventually decide to travel to the city of Dhassa and personally appeal to the Curia of Bishops. However, en route to Dhassa, Morgan is drugged and captured by Warin, who intends to burn the Deryni duke as a heretic. Duncan manages to rescue his cousin, but is forced to reveal his Deryni powers to ensure their escape. When the Curia learns of the cousins' actions, the two are soon excommunicated. Morgan and Duncan realize that appealing to the Curia is no longer an option, so they set out to meet with Kelson. Loris attempts to place Corwyn under Interdict, but a group of bishops refuses to participate in an action that would punish an entire duchy for the actions of its duke. Loris rages against the rebels, but he and his supporters are thrown out of Dhassa, effectively splitting the Curia. Kelson has traveled to the city of Culdi to attend the wedding of Morgan's sister, Bronwyn, and Duncan's half-brother, Kevin. Unknown to anyone, a jealous architect named Rimmell has fallen in love with Bronwyn and seeks to win her affections through the use of a love charm he acquires from an old witch woman. However, Rimmell's plan backfires horribly, and the charm kills both Bronwyn and Kevin. By the time Morgan and Duncan arrive in Culdi, Rimmell has been executed for his crime. Though Morgan is crushed with grief over the death of his sister, Kelson reminds him that he must still see to his duties. Facing an internal ecclesiastical schism, rebel fanatics ravaging his lands, and an imminent invasion from Torenth, Kelson cannot allow Morgan to wallow in his grief. Morgan agrees, and returns to his duties in service to the throne of Gwynedd.\"\n        ],\n        \"semantic_type\": \"\",\n        \"description\": \"\"\n      }\n    }\n  ]\n}"
            }
          },
          "metadata": {},
          "execution_count": 4
        }
      ]
    },
    {
      "cell_type": "code",
      "source": [
        "books.info()"
      ],
      "metadata": {
        "colab": {
          "base_uri": "https://localhost:8080/"
        },
        "id": "Q05UFkWXbBVF",
        "outputId": "b0fc56ac-6486-4f8b-cc88-2d8945218f6d"
      },
      "execution_count": 5,
      "outputs": [
        {
          "output_type": "stream",
          "name": "stdout",
          "text": [
            "<class 'pandas.core.frame.DataFrame'>\n",
            "RangeIndex: 3000 entries, 0 to 2999\n",
            "Data columns (total 4 columns):\n",
            " #   Column     Non-Null Count  Dtype \n",
            "---  ------     --------------  ----- \n",
            " 0   book_id    3000 non-null   int64 \n",
            " 1   book_name  3000 non-null   object\n",
            " 2   genre      3000 non-null   object\n",
            " 3   summary    3000 non-null   object\n",
            "dtypes: int64(1), object(3)\n",
            "memory usage: 93.9+ KB\n"
          ]
        }
      ]
    },
    {
      "cell_type": "code",
      "source": [
        "sn.countplot(x = books['genre'], palette='plasma')\n",
        "plt.xticks(rotation=90)"
      ],
      "metadata": {
        "colab": {
          "base_uri": "https://localhost:8080/",
          "height": 781
        },
        "id": "wnHtvrWMbWDE",
        "outputId": "a74f6da6-445d-4091-8f02-a3ee8e4f58d8"
      },
      "execution_count": 6,
      "outputs": [
        {
          "output_type": "stream",
          "name": "stderr",
          "text": [
            "<ipython-input-6-7c7a8cec35bc>:1: FutureWarning: \n",
            "\n",
            "Passing `palette` without assigning `hue` is deprecated and will be removed in v0.14.0. Assign the `x` variable to `hue` and set `legend=False` for the same effect.\n",
            "\n",
            "  sn.countplot(x = books['genre'], palette='plasma')\n"
          ]
        },
        {
          "output_type": "execute_result",
          "data": {
            "text/plain": [
              "([0, 1, 2, 3, 4, 5],\n",
              " [Text(0, 0, 'Fantasy'),\n",
              "  Text(1, 0, 'Science Fiction'),\n",
              "  Text(2, 0, 'Crime Fiction'),\n",
              "  Text(3, 0, 'Historical novel'),\n",
              "  Text(4, 0, 'Horror'),\n",
              "  Text(5, 0, 'Thriller')])"
            ]
          },
          "metadata": {},
          "execution_count": 6
        },
        {
          "output_type": "display_data",
          "data": {
            "text/plain": [
              "<Figure size 640x480 with 1 Axes>"
            ],
            "image/png": "[encoded data removed]"
          },
          "metadata": {}
        }
      ]
    },
    {
      "cell_type": "code",
      "source": [
        "books['summary'].iloc[1]"
      ],
      "metadata": {
        "colab": {
          "base_uri": "https://localhost:8080/",
          "height": 145
        },
        "id": "5GGYycfnbVcV",
        "outputId": "cac91e6a-dba6-4b6b-a6e2-d2b1dff33136"
      },
      "execution_count": 7,
      "outputs": [
        {
          "output_type": "execute_result",
          "data": {
            "text/plain": [
              "' As the book opens, Jason awakens on a school bus, unable to remember who or where he is, or anything about his past. He is sitting next to Piper McLean and Leo Valdez, who call him by name and say they are his girlfriend and best friend respectively. All three are part of a class field trip to the Grand Canyon, and after they arrive, a classmate Dylan turns into a Venti (Storm Spirit) and attacks the trio and their trip leader, Coach Gleeson Hedge. In the ensuing fight, Jason surprises everyone, including himself, when one of his coins turns into a sword which he uses to battle the storm spirits. Coach Hedge, who reveals himself to be a satyr during the fight, is taken captive by a fleeing spirit. After the battle, a flying chariot arrives to rescue the trio, but one of the people in it, Annabeth, is upset when she discovers that her missing boyfriend, Percy Jackson, is not there as she expected. Annabeth, seeking Percy, was told in a vision from the goddess Hera to look there for the \"guy with one shoe\", but this turns out to be Jason, who had a shoe destroyed during the fight. Jason, Piper,and Leo are told that they are demigods and are taken back to Camp Half-Blood where they meet other greek demigod children like themselves. There, Leo is revealed as a son of Hephaestus, Piper as a daughter of Aphrodite and Jason as a son of Zeus, though Hera tells him he is her champion. Jason later discovers that he is the full brother of Zeus\\'s demigod daughter Thalia Grace, who is a Hunter of Artemis. Shortly after they arrive, the three are given a quest to rescue Hera, who has been captured, and they set off. They soon discover that their enemies are working under orders from Gaea to overthrow the gods. During their quest, they encounter Thalia and the Hunters, who have been looking for Percy. Thalia and Jason reunite for the first since Jason was captured at the age of two. On the way to Aeolus\\'s castle, Jason, Leo and Piper become separated from Thalia, who promises to meet them at the Wolf House, the last place Thalia had seen Jason before this meeting. After being nearly apprehended by Aeolus, who is under Gaea\\'s orders, the trio manage to escape thanks to Mellie, Aeolus`s former assistant, and end up in San Francisco, thanks to the result of a dream Piper had with Aphrodite. After landing in San Francisco, the trio rush to Mt.Diablo to fight the giant Enceladus, who has kidnapped Piper\\'s father. They manage to kill the giant and save Piper\\'s father, after which they rush to the Wolf House to free Hera. Although the heroes and the Hunters save Hera, the king of the giants, Porphyrion, rises fully and disappears into a hole in the Earth. Jason\\'s memory then starts returning, and he remembers that he is a hero from a Roman counterpart to Camp Half-Blood somewhere near San Francisco, and is the son of Jupiter, Zeus\\'s Roman aspect. He realizes that Hera, also known as Juno, has switched him with Percy Jackson, who will be at the Roman camp with no memory of his life, in the hopes that the two camps would ultimately work together to fight the giants and defeat the goddess Gaea.'"
            ],
            "application/vnd.google.colaboratory.intrinsic+json": {
              "type": "string"
            }
          },
          "metadata": {},
          "execution_count": 7
        }
      ]
    },
    {
      "cell_type": "code",
      "source": [
        "#cleaning the text\n",
        "import re\n",
        "\n",
        "def cleantext(text):\n",
        "    # Removing backslashes explicitly\n",
        "    text = re.sub(r\"\\\\\", \"\", text)\n",
        "\n",
        "    # Removing quotes (single and double)\n",
        "    text = re.sub(r\"[\\\"']\", \"\", text)\n",
        "\n",
        "    # Removing special symbols except letters and spaces\n",
        "    text = re.sub(r\"[^a-zA-Z\\s]\", \"\", text)\n",
        "\n",
        "    # Removing extra whitespaces\n",
        "    text = ' '.join(text.split())\n",
        "\n",
        "    # Convert text to lowercase\n",
        "    text = text.lower()\n",
        "\n",
        "    return text\n",
        "\n",
        "books['summary'] = books['summary'].apply(lambda x: cleantext(x))\n",
        "books['summary'].iloc[1]\n",
        "\n"
      ],
      "metadata": {
        "colab": {
          "base_uri": "https://localhost:8080/",
          "height": 417
        },
        "id": "Df0SYOsmbUwM",
        "outputId": "79991652-ae48-4f8e-a252-af7888cdf9a7"
      },
      "execution_count": 8,
      "outputs": [
        {
          "output_type": "execute_result",
          "data": {
            "text/plain": [
              "'as the book opens jason awakens on a school bus unable to remember who or where he is or anything about his past he is sitting next to piper mclean and leo valdez who call him by name and say they are his girlfriend and best friend respectively all three are part of a class field trip to the grand canyon and after they arrive a classmate dylan turns into a venti storm spirit and attacks the trio and their trip leader coach gleeson hedge in the ensuing fight jason surprises everyone including himself when one of his coins turns into a sword which he uses to battle the storm spirits coach hedge who reveals himself to be a satyr during the fight is taken captive by a fleeing spirit after the battle a flying chariot arrives to rescue the trio but one of the people in it annabeth is upset when she discovers that her missing boyfriend percy jackson is not there as she expected annabeth seeking percy was told in a vision from the goddess hera to look there for the guy with one shoe but this turns out to be jason who had a shoe destroyed during the fight jason piperand leo are told that they are demigods and are taken back to camp halfblood where they meet other greek demigod children like themselves there leo is revealed as a son of hephaestus piper as a daughter of aphrodite and jason as a son of zeus though hera tells him he is her champion jason later discovers that he is the full brother of zeuss demigod daughter thalia grace who is a hunter of artemis shortly after they arrive the three are given a quest to rescue hera who has been captured and they set off they soon discover that their enemies are working under orders from gaea to overthrow the gods during their quest they encounter thalia and the hunters who have been looking for percy thalia and jason reunite for the first since jason was captured at the age of two on the way to aeoluss castle jason leo and piper become separated from thalia who promises to meet them at the wolf house the last place thalia had seen jason before this meeting after being nearly apprehended by aeolus who is under gaeas orders the trio manage to escape thanks to mellie aeoluss former assistant and end up in san francisco thanks to the result of a dream piper had with aphrodite after landing in san francisco the trio rush to mtdiablo to fight the giant enceladus who has kidnapped pipers father they manage to kill the giant and save pipers father after which they rush to the wolf house to free hera although the heroes and the hunters save hera the king of the giants porphyrion rises fully and disappears into a hole in the earth jasons memory then starts returning and he remembers that he is a hero from a roman counterpart to camp halfblood somewhere near san francisco and is the son of jupiter zeuss roman aspect he realizes that hera also known as juno has switched him with percy jackson who will be at the roman camp with no memory of his life in the hopes that the two camps would ultimately work together to fight the giants and defeat the goddess gaea'"
            ],
            "application/vnd.google.colaboratory.intrinsic+json": {
              "type": "string"
            }
          },
          "metadata": {},
          "execution_count": 8
        }
      ]
    },
    {
      "cell_type": "markdown",
      "source": [
        "Plotting the Most Frequest *Words*"
      ],
      "metadata": {
        "id": "txO1b_8-jmJk"
      }
    },
    {
      "cell_type": "code",
      "source": [
        "def showmostfrequentwords(text, no_of_words):\n",
        "\n",
        "  allwords = ' '.join([char for char in text])\n",
        "  allwords = allwords.split()\n",
        "  fdlist = nltk.FreqDist(allwords)\n",
        "\n",
        "  wordsdf = pd.DataFrame({'word':list(fdlist.keys()), 'count':list(fdlist.values())})\n",
        "\n",
        "  df = wordsdf.nlargest(columns='count', n=no_of_words)\n",
        "\n",
        "  plt.figure(figsize=(12,8))\n",
        "  ax = sn.barplot(data=df, x='word', y='count')\n",
        "  ax.set(ylabel='Count')\n",
        "  plt.show()\n",
        "\n",
        "  return wordsdf\n",
        "\n",
        "\n",
        "#25 most frequent words\n",
        "\n",
        "wordsdf = showmostfrequentwords(books['summary'],25)"
      ],
      "metadata": {
        "colab": {
          "base_uri": "https://localhost:8080/",
          "height": 696
        },
        "id": "8YvqvSYeim54",
        "outputId": "f5e5fb72-6c95-4077-b517-750e9b5920c5"
      },
      "execution_count": 9,
      "outputs": [
        {
          "output_type": "display_data",
          "data": {
            "text/plain": [
              "<Figure size 1200x800 with 1 Axes>"
            ],
            "image/png": "[encoded data removed]"
          },
          "metadata": {}
        }
      ]
    },
    {
      "cell_type": "code",
      "source": [
        "wordsdf.sort_values('count',ascending=False).head(10).style.background_gradient(cmap='plasma')"
      ],
      "metadata": {
        "colab": {
          "base_uri": "https://localhost:8080/",
          "height": 363
        },
        "id": "1FsCV1xytS3B",
        "outputId": "82cb8d2e-9c9c-4000-a82e-fdd3af11ec24"
      },
      "execution_count": 10,
      "outputs": [
        {
          "output_type": "execute_result",
          "data": {
            "text/plain": [
              "<pandas.io.formats.style.Styler at 0x7d009e5f85d0>"
            ],
            "text/html": [
              "<style type=\"text/css\">\n",
              "#T_26baf_row0_col1 {\n",
              "  background-color: #f0f921;\n",
              "  color: #000000;\n",
              "}\n",
              "#T_26baf_row1_col1 {\n",
              "  background-color: #b22b8f;\n",
              "  color: #f1f1f1;\n",
              "}\n",
              "#T_26baf_row2_col1 {\n",
              "  background-color: #a82296;\n",
              "  color: #f1f1f1;\n",
              "}\n",
              "#T_26baf_row3_col1 {\n",
              "  background-color: #8305a7;\n",
              "  color: #f1f1f1;\n",
              "}\n",
              "#T_26baf_row4_col1 {\n",
              "  background-color: #7d03a8;\n",
              "  color: #f1f1f1;\n",
              "}\n",
              "#T_26baf_row5_col1 {\n",
              "  background-color: #41049d;\n",
              "  color: #f1f1f1;\n",
              "}\n",
              "#T_26baf_row6_col1 {\n",
              "  background-color: #3c049b;\n",
              "  color: #f1f1f1;\n",
              "}\n",
              "#T_26baf_row7_col1 {\n",
              "  background-color: #19068c;\n",
              "  color: #f1f1f1;\n",
              "}\n",
              "#T_26baf_row8_col1 {\n",
              "  background-color: #16078a;\n",
              "  color: #f1f1f1;\n",
              "}\n",
              "#T_26baf_row9_col1 {\n",
              "  background-color: #0d0887;\n",
              "  color: #f1f1f1;\n",
              "}\n",
              "</style>\n",
              "<table id=\"T_26baf\" class=\"dataframe\">\n",
              "  <thead>\n",
              "    <tr>\n",
              "      <th class=\"blank level0\" >&nbsp;</th>\n",
              "      <th id=\"T_26baf_level0_col0\" class=\"col_heading level0 col0\" >word</th>\n",
              "      <th id=\"T_26baf_level0_col1\" class=\"col_heading level0 col1\" >count</th>\n",
              "    </tr>\n",
              "  </thead>\n",
              "  <tbody>\n",
              "    <tr>\n",
              "      <th id=\"T_26baf_level0_row0\" class=\"row_heading level0 row0\" >3</th>\n",
              "      <td id=\"T_26baf_row0_col0\" class=\"data row0 col0\" >the</td>\n",
              "      <td id=\"T_26baf_row0_col1\" class=\"data row0 col1\" >99671</td>\n",
              "    </tr>\n",
              "    <tr>\n",
              "      <th id=\"T_26baf_level0_row1\" class=\"row_heading level0 row1\" >16</th>\n",
              "      <td id=\"T_26baf_row1_col0\" class=\"data row1 col0\" >to</td>\n",
              "      <td id=\"T_26baf_row1_col1\" class=\"data row1 col1\" >49585</td>\n",
              "    </tr>\n",
              "    <tr>\n",
              "      <th id=\"T_26baf_level0_row2\" class=\"row_heading level0 row2\" >13</th>\n",
              "      <td id=\"T_26baf_row2_col0\" class=\"data row2 col0\" >and</td>\n",
              "      <td id=\"T_26baf_row2_col1\" class=\"data row2 col1\" >47027</td>\n",
              "    </tr>\n",
              "    <tr>\n",
              "      <th id=\"T_26baf_level0_row3\" class=\"row_heading level0 row3\" >45</th>\n",
              "      <td id=\"T_26baf_row3_col0\" class=\"data row3 col0\" >of</td>\n",
              "      <td id=\"T_26baf_row3_col1\" class=\"data row3 col1\" >37950</td>\n",
              "    </tr>\n",
              "    <tr>\n",
              "      <th id=\"T_26baf_level0_row4\" class=\"row_heading level0 row4\" >22</th>\n",
              "      <td id=\"T_26baf_row4_col0\" class=\"data row4 col0\" >a</td>\n",
              "      <td id=\"T_26baf_row4_col1\" class=\"data row4 col1\" >36546</td>\n",
              "    </tr>\n",
              "    <tr>\n",
              "      <th id=\"T_26baf_level0_row5\" class=\"row_heading level0 row5\" >79</th>\n",
              "      <td id=\"T_26baf_row5_col0\" class=\"data row5 col0\" >in</td>\n",
              "      <td id=\"T_26baf_row5_col1\" class=\"data row5 col1\" >24321</td>\n",
              "    </tr>\n",
              "    <tr>\n",
              "      <th id=\"T_26baf_level0_row6\" class=\"row_heading level0 row6\" >2</th>\n",
              "      <td id=\"T_26baf_row6_col0\" class=\"data row6 col0\" >is</td>\n",
              "      <td id=\"T_26baf_row6_col1\" class=\"data row6 col1\" >23347</td>\n",
              "    </tr>\n",
              "    <tr>\n",
              "      <th id=\"T_26baf_level0_row7\" class=\"row_heading level0 row7\" >48</th>\n",
              "      <td id=\"T_26baf_row7_col0\" class=\"data row7 col0\" >his</td>\n",
              "      <td id=\"T_26baf_row7_col1\" class=\"data row7 col1\" >17461</td>\n",
              "    </tr>\n",
              "    <tr>\n",
              "      <th id=\"T_26baf_level0_row8\" class=\"row_heading level0 row8\" >50</th>\n",
              "      <td id=\"T_26baf_row8_col0\" class=\"data row8 col0\" >he</td>\n",
              "      <td id=\"T_26baf_row8_col1\" class=\"data row8 col1\" >16952</td>\n",
              "    </tr>\n",
              "    <tr>\n",
              "      <th id=\"T_26baf_level0_row9\" class=\"row_heading level0 row9\" >37</th>\n",
              "      <td id=\"T_26baf_row9_col0\" class=\"data row9 col0\" >that</td>\n",
              "      <td id=\"T_26baf_row9_col1\" class=\"data row9 col1\" >15830</td>\n",
              "    </tr>\n",
              "  </tbody>\n",
              "</table>\n"
            ]
          },
          "metadata": {},
          "execution_count": 10
        }
      ]
    },
    {
      "cell_type": "markdown",
      "source": [
        "Removing the stopwords"
      ],
      "metadata": {
        "id": "nJX8iHkwCjI1"
      }
    },
    {
      "cell_type": "code",
      "source": [
        "nltk.download('stopwords')\n",
        "from nltk.corpus import stopwords\n",
        "stop_words = set(stopwords.words('english'))\n",
        "\n",
        "#removing stopwords\n",
        "\n",
        "def removestopwords(text):\n",
        "\n",
        "\n",
        "   removestopwords = [word for word in text.split() if word not in stop_words]\n",
        "   return ' '.join(removestopwords)\n",
        "\n",
        "books['summary'] = books['summary'].apply(lambda x: removestopwords(x))\n",
        "books['summary'].iloc[1]"
      ],
      "metadata": {
        "colab": {
          "base_uri": "https://localhost:8080/",
          "height": 308
        },
        "id": "wr9WiebbDPz5",
        "outputId": "dc3faf30-8584-4907-a5a7-7a0e07390059"
      },
      "execution_count": 11,
      "outputs": [
        {
          "output_type": "stream",
          "name": "stderr",
          "text": [
            "[nltk_data] Downloading package stopwords to /root/nltk_data...\n",
            "[nltk_data]   Package stopwords is already up-to-date!\n"
          ]
        },
        {
          "output_type": "execute_result",
          "data": {
            "text/plain": [
              "'book opens jason awakens school bus unable remember anything past sitting next piper mclean leo valdez call name say girlfriend best friend respectively three part class field trip grand canyon arrive classmate dylan turns venti storm spirit attacks trio trip leader coach gleeson hedge ensuing fight jason surprises everyone including one coins turns sword uses battle storm spirits coach hedge reveals satyr fight taken captive fleeing spirit battle flying chariot arrives rescue trio one people annabeth upset discovers missing boyfriend percy jackson expected annabeth seeking percy told vision goddess hera look guy one shoe turns jason shoe destroyed fight jason piperand leo told demigods taken back camp halfblood meet greek demigod children like leo revealed son hephaestus piper daughter aphrodite jason son zeus though hera tells champion jason later discovers full brother zeuss demigod daughter thalia grace hunter artemis shortly arrive three given quest rescue hera captured set soon discover enemies working orders gaea overthrow gods quest encounter thalia hunters looking percy thalia jason reunite first since jason captured age two way aeoluss castle jason leo piper become separated thalia promises meet wolf house last place thalia seen jason meeting nearly apprehended aeolus gaeas orders trio manage escape thanks mellie aeoluss former assistant end san francisco thanks result dream piper aphrodite landing san francisco trio rush mtdiablo fight giant enceladus kidnapped pipers father manage kill giant save pipers father rush wolf house free hera although heroes hunters save hera king giants porphyrion rises fully disappears hole earth jasons memory starts returning remembers hero roman counterpart camp halfblood somewhere near san francisco son jupiter zeuss roman aspect realizes hera also known juno switched percy jackson roman camp memory life hopes two camps would ultimately work together fight giants defeat goddess gaea'"
            ],
            "application/vnd.google.colaboratory.intrinsic+json": {
              "type": "string"
            }
          },
          "metadata": {},
          "execution_count": 11
        }
      ]
    },
    {
      "cell_type": "markdown",
      "source": [
        "Lemmatising"
      ],
      "metadata": {
        "id": "MXdFcnXOFdtK"
      }
    },
    {
      "cell_type": "code",
      "source": [
        "nltk.download('wordnet',download_dir='./')\n",
        "\n",
        "\n",
        "\n"
      ],
      "metadata": {
        "colab": {
          "base_uri": "https://localhost:8080/"
        },
        "id": "vtaX_WnDFa-X",
        "outputId": "42efab6b-ba8b-4375-af98-9fddb568f8f5"
      },
      "execution_count": 13,
      "outputs": [
        {
          "output_type": "stream",
          "name": "stderr",
          "text": [
            "[nltk_data] Downloading package wordnet to ./...\n"
          ]
        },
        {
          "output_type": "execute_result",
          "data": {
            "text/plain": [
              "True"
            ]
          },
          "metadata": {},
          "execution_count": 13
        }
      ]
    },
    {
      "cell_type": "code",
      "source": [
        "nltk.download('wordnet')\n",
        "from nltk.stem import WordNetLemmatizer\n",
        "\n",
        "lemma=WordNetLemmatizer()\n",
        "\n",
        "def lematizing(sentence):\n",
        "    stemSentence = \"\"\n",
        "    for word in sentence.split():\n",
        "      stem = lemma.lemmatize(word)\n",
        "      stemSentence += stem\n",
        "      stemSentence += \" \"\n",
        "    stemSentence = stemSentence.strip()\n",
        "    return stemSentence\n",
        "\n",
        "books['summary'] = books['summary'].apply(lambda x: lematizing(x))\n"
      ],
      "metadata": {
        "colab": {
          "base_uri": "https://localhost:8080/"
        },
        "id": "_-oXnK5gQn63",
        "outputId": "3645af3f-9520-4f8c-9172-0cada496ff80"
      },
      "execution_count": 14,
      "outputs": [
        {
          "output_type": "stream",
          "name": "stderr",
          "text": [
            "[nltk_data] Downloading package wordnet to /root/nltk_data...\n"
          ]
        }
      ]
    },
    {
      "cell_type": "markdown",
      "source": [
        "Stemming"
      ],
      "metadata": {
        "id": "WJ2DioEsWev5"
      }
    },
    {
      "cell_type": "code",
      "source": [
        "#Approach\n",
        "\n",
        "from nltk.stem import PorterStemmer\n",
        "stemmer = PorterStemmer()\n",
        "\n",
        "def stemming(sentence):\n",
        "\n",
        "    stemmed_sentence = \"\"\n",
        "    for word in sentence.split():\n",
        "        stem = stemmer.stem(word)\n",
        "        stemmed_sentence += stem\n",
        "        stemmed_sentence += \" \"\n",
        "\n",
        "    stemmed_sentence = stemmed_sentence.strip()\n",
        "    return stemmed_sentence\n",
        "\n",
        "books['summary'] = books['summary'].apply(lambda text: stemming(text))\n",
        "books['summary'].iloc[1]\n",
        "\n",
        "\n"
      ],
      "metadata": {
        "colab": {
          "base_uri": "https://localhost:8080/",
          "height": 145
        },
        "id": "dXFwdkEiWcwQ",
        "outputId": "e6903b33-2e55-4e6c-9db3-67d64be672c1"
      },
      "execution_count": 15,
      "outputs": [
        {
          "output_type": "execute_result",
          "data": {
            "text/plain": [
              "'book open jason awaken school bu unabl rememb anyth past sit next piper mclean leo valdez call name say girlfriend best friend respect three part class field trip grand canyon arriv classmat dylan turn venti storm spirit attack trio trip leader coach gleeson hedg ensu fight jason surpris everyon includ one coin turn sword us battl storm spirit coach hedg reveal satyr fight taken captiv flee spirit battl fli chariot arriv rescu trio one peopl annabeth upset discov miss boyfriend perci jackson expect annabeth seek perci told vision goddess hera look guy one shoe turn jason shoe destroy fight jason piperand leo told demigod taken back camp halfblood meet greek demigod child like leo reveal son hephaestu piper daughter aphrodit jason son zeu though hera tell champion jason later discov full brother zeu demigod daughter thalia grace hunter artemi shortli arriv three given quest rescu hera captur set soon discov enemi work order gaea overthrow god quest encount thalia hunter look perci thalia jason reunit first sinc jason captur age two way aeolu castl jason leo piper becom separ thalia promis meet wolf hous last place thalia seen jason meet nearli apprehend aeolu gaea order trio manag escap thank melli aeolu former assist end san francisco thank result dream piper aphrodit land san francisco trio rush mtdiablo fight giant enceladu kidnap piper father manag kill giant save piper father rush wolf hous free hera although hero hunter save hera king giant porphyrion rise fulli disappear hole earth jason memori start return rememb hero roman counterpart camp halfblood somewher near san francisco son jupit zeu roman aspect realiz hera also known juno switch perci jackson roman camp memori life hope two camp would ultim work togeth fight giant defeat goddess gaea'"
            ],
            "application/vnd.google.colaboratory.intrinsic+json": {
              "type": "string"
            }
          },
          "metadata": {},
          "execution_count": 15
        }
      ]
    },
    {
      "cell_type": "code",
      "source": [
        "#visualising free words\n",
        "\n",
        "freq_df = showmostfrequentwords(books['summary'],25)"
      ],
      "metadata": {
        "colab": {
          "base_uri": "https://localhost:8080/",
          "height": 696
        },
        "id": "sLv85UCMWcRV",
        "outputId": "5b034d85-11c6-4c6b-eed8-1d8524d94a92"
      },
      "execution_count": 16,
      "outputs": [
        {
          "output_type": "display_data",
          "data": {
            "text/plain": [
              "<Figure size 1200x800 with 1 Axes>"
            ],
            "image/png": "[encoded data removed]"
          },
          "metadata": {}
        }
      ]
    },
    {
      "cell_type": "code",
      "source": [
        "freq_df.sort_values('count',ascending=False).head(10).style.background_gradient(cmap='plasma')"
      ],
      "metadata": {
        "colab": {
          "base_uri": "https://localhost:8080/",
          "height": 363
        },
        "id": "JJ3lBFpLbI8E",
        "outputId": "28bfaf6f-13a3-4697-e9d7-0767f846a25f"
      },
      "execution_count": 17,
      "outputs": [
        {
          "output_type": "execute_result",
          "data": {
            "text/plain": [
              "<pandas.io.formats.style.Styler at 0x7d00950b1450>"
            ],
            "text/html": [
              "<style type=\"text/css\">\n",
              "#T_50b2d_row0_col1 {\n",
              "  background-color: #f0f921;\n",
              "  color: #000000;\n",
              "}\n",
              "#T_50b2d_row1_col1 {\n",
              "  background-color: #febd2a;\n",
              "  color: #000000;\n",
              "}\n",
              "#T_50b2d_row2_col1 {\n",
              "  background-color: #f9973f;\n",
              "  color: #000000;\n",
              "}\n",
              "#T_50b2d_row3_col1 {\n",
              "  background-color: #a51f99;\n",
              "  color: #f1f1f1;\n",
              "}\n",
              "#T_50b2d_row4_col1 {\n",
              "  background-color: #6c00a8;\n",
              "  color: #f1f1f1;\n",
              "}\n",
              "#T_50b2d_row5_col1 {\n",
              "  background-color: #6600a7;\n",
              "  color: #f1f1f1;\n",
              "}\n",
              "#T_50b2d_row6_col1 {\n",
              "  background-color: #1d068e;\n",
              "  color: #f1f1f1;\n",
              "}\n",
              "#T_50b2d_row7_col1 {\n",
              "  background-color: #16078a;\n",
              "  color: #f1f1f1;\n",
              "}\n",
              "#T_50b2d_row8_col1 {\n",
              "  background-color: #100788;\n",
              "  color: #f1f1f1;\n",
              "}\n",
              "#T_50b2d_row9_col1 {\n",
              "  background-color: #0d0887;\n",
              "  color: #f1f1f1;\n",
              "}\n",
              "</style>\n",
              "<table id=\"T_50b2d\" class=\"dataframe\">\n",
              "  <thead>\n",
              "    <tr>\n",
              "      <th class=\"blank level0\" >&nbsp;</th>\n",
              "      <th id=\"T_50b2d_level0_col0\" class=\"col_heading level0 col0\" >word</th>\n",
              "      <th id=\"T_50b2d_level0_col1\" class=\"col_heading level0 col1\" >count</th>\n",
              "    </tr>\n",
              "  </thead>\n",
              "  <tbody>\n",
              "    <tr>\n",
              "      <th id=\"T_50b2d_level0_row0\" class=\"row_heading level0 row0\" >241</th>\n",
              "      <td id=\"T_50b2d_row0_col0\" class=\"data row0 col0\" >one</td>\n",
              "      <td id=\"T_50b2d_row0_col1\" class=\"data row0 col1\" >3765</td>\n",
              "    </tr>\n",
              "    <tr>\n",
              "      <th id=\"T_50b2d_level0_row1\" class=\"row_heading level0 row1\" >229</th>\n",
              "      <td id=\"T_50b2d_row1_col0\" class=\"data row1 col0\" >find</td>\n",
              "      <td id=\"T_50b2d_row1_col1\" class=\"data row1 col1\" >3533</td>\n",
              "    </tr>\n",
              "    <tr>\n",
              "      <th id=\"T_50b2d_level0_row2\" class=\"row_heading level0 row2\" >239</th>\n",
              "      <td id=\"T_50b2d_row2_col0\" class=\"data row2 col0\" >kill</td>\n",
              "      <td id=\"T_50b2d_row2_col1\" class=\"data row2 col1\" >3369</td>\n",
              "    </tr>\n",
              "    <tr>\n",
              "      <th id=\"T_50b2d_level0_row3\" class=\"row_heading level0 row3\" >152</th>\n",
              "      <td id=\"T_50b2d_row3_col0\" class=\"data row3 col0\" >take</td>\n",
              "      <td id=\"T_50b2d_row3_col1\" class=\"data row3 col1\" >2733</td>\n",
              "    </tr>\n",
              "    <tr>\n",
              "      <th id=\"T_50b2d_level0_row4\" class=\"row_heading level0 row4\" >87</th>\n",
              "      <td id=\"T_50b2d_row4_col0\" class=\"data row4 col0\" >go</td>\n",
              "      <td id=\"T_50b2d_row4_col1\" class=\"data row4 col1\" >2484</td>\n",
              "    </tr>\n",
              "    <tr>\n",
              "      <th id=\"T_50b2d_level0_row5\" class=\"row_heading level0 row5\" >1146</th>\n",
              "      <td id=\"T_50b2d_row5_col0\" class=\"data row5 col0\" >time</td>\n",
              "      <td id=\"T_50b2d_row5_col1\" class=\"data row5 col1\" >2459</td>\n",
              "    </tr>\n",
              "    <tr>\n",
              "      <th id=\"T_50b2d_level0_row6\" class=\"row_heading level0 row6\" >37</th>\n",
              "      <td id=\"T_50b2d_row6_col0\" class=\"data row6 col0\" >two</td>\n",
              "      <td id=\"T_50b2d_row6_col1\" class=\"data row6 col1\" >2194</td>\n",
              "    </tr>\n",
              "    <tr>\n",
              "      <th id=\"T_50b2d_level0_row7\" class=\"row_heading level0 row7\" >412</th>\n",
              "      <td id=\"T_50b2d_row7_col0\" class=\"data row7 col0\" >also</td>\n",
              "      <td id=\"T_50b2d_row7_col1\" class=\"data row7 col1\" >2177</td>\n",
              "    </tr>\n",
              "    <tr>\n",
              "      <th id=\"T_50b2d_level0_row8\" class=\"row_heading level0 row8\" >415</th>\n",
              "      <td id=\"T_50b2d_row8_col0\" class=\"data row8 col0\" >life</td>\n",
              "      <td id=\"T_50b2d_row8_col1\" class=\"data row8 col1\" >2161</td>\n",
              "    </tr>\n",
              "    <tr>\n",
              "      <th id=\"T_50b2d_level0_row9\" class=\"row_heading level0 row9\" >404</th>\n",
              "      <td id=\"T_50b2d_row9_col0\" class=\"data row9 col0\" >return</td>\n",
              "      <td id=\"T_50b2d_row9_col1\" class=\"data row9 col1\" >2154</td>\n",
              "    </tr>\n",
              "  </tbody>\n",
              "</table>\n"
            ]
          },
          "metadata": {},
          "execution_count": 17
        }
      ]
    },
    {
      "cell_type": "markdown",
      "source": [
        "## Encoding"
      ],
      "metadata": {
        "id": "DdigYSXhb-UO"
      }
    },
    {
      "cell_type": "code",
      "source": [
        "books_list = list(books['genre'].unique())\n",
        "encode = [i for i in range(len(books_list))]\n",
        "mapper = dict(zip(books_list, encode))\n",
        "print(mapper)"
      ],
      "metadata": {
        "colab": {
          "base_uri": "https://localhost:8080/"
        },
        "id": "TJ8FkV3xbIXx",
        "outputId": "11c2da1d-df06-40cf-eb96-021b0c305a2f"
      },
      "execution_count": 19,
      "outputs": [
        {
          "output_type": "stream",
          "name": "stdout",
          "text": [
            "{'Fantasy': 0, 'Science Fiction': 1, 'Crime Fiction': 2, 'Historical novel': 3, 'Horror': 4, 'Thriller': 5}\n"
          ]
        }
      ]
    },
    {
      "cell_type": "code",
      "source": [
        "books['genre'] = books['genre'].map(mapper)\n",
        "books['genre'].unique()"
      ],
      "metadata": {
        "colab": {
          "base_uri": "https://localhost:8080/"
        },
        "id": "N8WbRMoRbHmB",
        "outputId": "286989ba-a01b-4f79-962c-eca5176ee636"
      },
      "execution_count": 20,
      "outputs": [
        {
          "output_type": "execute_result",
          "data": {
            "text/plain": [
              "array([0, 1, 2, 3, 4, 5])"
            ]
          },
          "metadata": {},
          "execution_count": 20
        }
      ]
    },
    {
      "cell_type": "markdown",
      "source": [
        "##Model Building"
      ],
      "metadata": {
        "id": "hVbJYyc1c4jl"
      }
    },
    {
      "cell_type": "code",
      "source": [
        "##count vectoriser\n",
        "\n",
        "count_vect = CountVectorizer(max_df=0.90, min_df=2, stop_words='english')\n",
        "\n",
        "bagofword_vec = count_vect.fit_transform(books['summary'])\n",
        "bagofword_vec"
      ],
      "metadata": {
        "colab": {
          "base_uri": "https://localhost:8080/"
        },
        "id": "_p_W2QP5c1hC",
        "outputId": "6a6b5ac6-5796-4e0a-ff53-8fbcea540f08"
      },
      "execution_count": 22,
      "outputs": [
        {
          "output_type": "execute_result",
          "data": {
            "text/plain": [
              "<3000x16855 sparse matrix of type '<class 'numpy.int64'>'\n",
              "\twith 419935 stored elements in Compressed Sparse Row format>"
            ]
          },
          "metadata": {},
          "execution_count": 22
        }
      ]
    },
    {
      "cell_type": "code",
      "source": [
        "test = books['genre']\n",
        "X_train, X_test, y_train, y_test = train_test_split(bagofword_vec, test, test_size=0.2)\n",
        "\n",
        "X_train.shape, X_test.shape, y_train.shape, y_test.shape"
      ],
      "metadata": {
        "colab": {
          "base_uri": "https://localhost:8080/"
        },
        "id": "ydp76q2hkE5X",
        "outputId": "5f79c6b6-adae-4092-9568-1d20928c743d"
      },
      "execution_count": 23,
      "outputs": [
        {
          "output_type": "execute_result",
          "data": {
            "text/plain": [
              "((2400, 16855), (600, 16855), (2400,), (600,))"
            ]
          },
          "metadata": {},
          "execution_count": 23
        }
      ]
    },
    {
      "cell_type": "code",
      "source": [
        "svc = SVC()\n",
        "svc.fit(X_train, y_train)\n",
        "svccpred = svc.predict(X_test)\n",
        "print(metrics.accuracy_score(y_test, svccpred))\n"
      ],
      "metadata": {
        "colab": {
          "base_uri": "https://localhost:8080/"
        },
        "id": "b4BZ_3vqkEEe",
        "outputId": "f66aae67-432a-4285-b030-6f06589f77ff"
      },
      "execution_count": 24,
      "outputs": [
        {
          "output_type": "stream",
          "name": "stdout",
          "text": [
            "0.545\n"
          ]
        }
      ]
    },
    {
      "cell_type": "code",
      "source": [
        "from sklearn.naive_bayes import MultinomialNB\n",
        "mb = MultinomialNB()\n",
        "mb.fit(X_train, y_train)\n",
        "mbpred = mb.predict(X_test)\n",
        "print(metrics.accuracy_score(y_test, mbpred))\n"
      ],
      "metadata": {
        "colab": {
          "base_uri": "https://localhost:8080/"
        },
        "id": "xqMgBgoNlrME",
        "outputId": "e9542e43-a9a2-47f9-90ef-8e641b7c7d51"
      },
      "execution_count": 27,
      "outputs": [
        {
          "output_type": "stream",
          "name": "stdout",
          "text": [
            "0.73\n"
          ]
        }
      ]
    },
    {
      "cell_type": "code",
      "source": [
        "rf = RandomForestClassifier()\n",
        "rf.fit(X_train, y_train)\n",
        "print(metrics.accuracy_score(y_test, rf.predict(X_test)))"
      ],
      "metadata": {
        "colab": {
          "base_uri": "https://localhost:8080/"
        },
        "id": "-UsFQeDflq2-",
        "outputId": "caf75ae0-68e3-47ff-b5dd-912dccba252b"
      },
      "execution_count": 31,
      "outputs": [
        {
          "output_type": "stream",
          "name": "stdout",
          "text": [
            "0.6316666666666667\n"
          ]
        }
      ]
    },
    {
      "cell_type": "markdown",
      "source": [
        "## Part 2- Model Building"
      ],
      "metadata": {
        "id": "oxr14GOwnOUv"
      }
    },
    {
      "cell_type": "markdown",
      "source": [
        "Changing from countvectorizer to TFDIF"
      ],
      "metadata": {
        "id": "pX7J0GSQujfU"
      }
    },
    {
      "cell_type": "code",
      "source": [
        "#labelling each genre with a unique number\n",
        "\n",
        "from sklearn.preprocessing import LabelEncoder\n",
        "le = LabelEncoder()\n",
        "y = le.fit_transform(books['genre'])\n",
        "\n",
        "X_train, X_test, y_train, y_test = train_test_split(books['summary'],y,test_size=0.2,random_state=50)\n",
        "\n",
        "X_train.shape, X_test.shape\n"
      ],
      "metadata": {
        "colab": {
          "base_uri": "https://localhost:8080/"
        },
        "id": "8q0fjJ97nLpz",
        "outputId": "4ace6fbb-69e6-48d4-d871-df65049a4df4"
      },
      "execution_count": 32,
      "outputs": [
        {
          "output_type": "execute_result",
          "data": {
            "text/plain": [
              "((2400,), (600,))"
            ]
          },
          "metadata": {},
          "execution_count": 32
        }
      ]
    },
    {
      "cell_type": "code",
      "source": [
        "#performing tf-idf\n",
        "\n",
        "from sklearn.feature_extraction.text import TfidfVectorizer\n",
        "\n",
        "tfidf_vectorizer = TfidfVectorizer(max_df=0.8, max_features=10000)\n",
        "xtrain_tfidf = tfidf_vectorizer.fit_transform(X_train.values.astype('U'))\n",
        "xtest_tfidf = tfidf_vectorizer.transform(X_test.values.astype('U'))\n"
      ],
      "metadata": {
        "id": "8ZBcdU1qnKo4"
      },
      "execution_count": 34,
      "outputs": []
    },
    {
      "cell_type": "code",
      "source": [
        "svc = SVC()\n",
        "svc.fit(xtrain_tfidf, y_train)\n",
        "svccpred = svc.predict(xtest_tfidf)\n",
        "print(metrics.accuracy_score(y_test, svccpred))\n"
      ],
      "metadata": {
        "colab": {
          "base_uri": "https://localhost:8080/"
        },
        "id": "wqKvrEjznJpJ",
        "outputId": "626dd211-19bd-4e0e-898a-da6d619c551f"
      },
      "execution_count": 35,
      "outputs": [
        {
          "output_type": "stream",
          "name": "stdout",
          "text": [
            "0.7583333333333333\n"
          ]
        }
      ]
    },
    {
      "cell_type": "code",
      "source": [
        "mb = MultinomialNB()\n",
        "mb.fit(xtrain_tfidf, y_train)\n",
        "mbpred = mb.predict(xtest_tfidf)\n",
        "print(metrics.accuracy_score(y_test, mbpred))"
      ],
      "metadata": {
        "colab": {
          "base_uri": "https://localhost:8080/"
        },
        "id": "nWX8SMdd9rWB",
        "outputId": "75b7396e-7439-4897-954d-a9909ed0e2ab"
      },
      "execution_count": 36,
      "outputs": [
        {
          "output_type": "stream",
          "name": "stdout",
          "text": [
            "0.77\n"
          ]
        }
      ]
    },
    {
      "cell_type": "markdown",
      "source": [
        "## Testing Model"
      ],
      "metadata": {
        "id": "78yuzYFZ_g6b"
      }
    },
    {
      "cell_type": "code",
      "source": [
        "def test(text,model):\n",
        "\n",
        "    text = cleantext(text)\n",
        "    text = removestopwords(text)\n",
        "    text = lematizing(text)\n",
        "    text = stemming(text)\n",
        "\n",
        "    text_vector = tfidf_vectorizer.transform([text])\n",
        "    predicted = model.predict(text_vector)\n",
        "    return predicted\n",
        "\n",
        "ans = books['summary'].apply(lambda text: test(text, mb))\n",
        "\n",
        "ans"
      ],
      "metadata": {
        "colab": {
          "base_uri": "https://localhost:8080/",
          "height": 458
        },
        "id": "Px3X_Cko9qCf",
        "outputId": "73914da6-ab6c-45c0-91b5-724b54a7b5f1"
      },
      "execution_count": 38,
      "outputs": [
        {
          "output_type": "execute_result",
          "data": {
            "text/plain": [
              "0       [0]\n",
              "1       [0]\n",
              "2       [0]\n",
              "3       [0]\n",
              "4       [0]\n",
              "       ... \n",
              "2995    [5]\n",
              "2996    [5]\n",
              "2997    [5]\n",
              "2998    [5]\n",
              "2999    [5]\n",
              "Name: summary, Length: 3000, dtype: object"
            ],
            "text/html": [
              "<div>\n",
              "<style scoped>\n",
              "    .dataframe tbody tr th:only-of-type {\n",
              "        vertical-align: middle;\n",
              "    }\n",
              "\n",
              "    .dataframe tbody tr th {\n",
              "        vertical-align: top;\n",
              "    }\n",
              "\n",
              "    .dataframe thead th {\n",
              "        text-align: right;\n",
              "    }\n",
              "</style>\n",
              "<table border=\"1\" class=\"dataframe\">\n",
              "  <thead>\n",
              "    <tr style=\"text-align: right;\">\n",
              "      <th></th>\n",
              "      <th>summary</th>\n",
              "    </tr>\n",
              "  </thead>\n",
              "  <tbody>\n",
              "    <tr>\n",
              "      <th>0</th>\n",
              "      <td>[0]</td>\n",
              "    </tr>\n",
              "    <tr>\n",
              "      <th>1</th>\n",
              "      <td>[0]</td>\n",
              "    </tr>\n",
              "    <tr>\n",
              "      <th>2</th>\n",
              "      <td>[0]</td>\n",
              "    </tr>\n",
              "    <tr>\n",
              "      <th>3</th>\n",
              "      <td>[0]</td>\n",
              "    </tr>\n",
              "    <tr>\n",
              "      <th>4</th>\n",
              "      <td>[0]</td>\n",
              "    </tr>\n",
              "    <tr>\n",
              "      <th>...</th>\n",
              "      <td>...</td>\n",
              "    </tr>\n",
              "    <tr>\n",
              "      <th>2995</th>\n",
              "      <td>[5]</td>\n",
              "    </tr>\n",
              "    <tr>\n",
              "      <th>2996</th>\n",
              "      <td>[5]</td>\n",
              "    </tr>\n",
              "    <tr>\n",
              "      <th>2997</th>\n",
              "      <td>[5]</td>\n",
              "    </tr>\n",
              "    <tr>\n",
              "      <th>2998</th>\n",
              "      <td>[5]</td>\n",
              "    </tr>\n",
              "    <tr>\n",
              "      <th>2999</th>\n",
              "      <td>[5]</td>\n",
              "    </tr>\n",
              "  </tbody>\n",
              "</table>\n",
              "<p>3000 rows × 1 columns</p>\n",
              "</div><br><label><b>dtype:</b> object</label>"
            ]
          },
          "metadata": {},
          "execution_count": 38
        }
      ]
    },
    {
      "cell_type": "code",
      "source": [
        "#method to switch the values to keys\n",
        "\n",
        "predicted_genres = []\n",
        "for i in range(len(ans)):\n",
        "    index_val = ans[i][0]\n",
        "\n",
        "    predicted_genres.append(list(mapper.keys())[list(mapper.values()).index(index_val)])\n"
      ],
      "metadata": {
        "id": "9TdLU0yfBfEr"
      },
      "execution_count": 39,
      "outputs": []
    },
    {
      "cell_type": "code",
      "source": [
        "mapper"
      ],
      "metadata": {
        "colab": {
          "base_uri": "https://localhost:8080/"
        },
        "id": "n292296RC4LL",
        "outputId": "3a45f01f-bdbc-4b02-98de-491c5a17c7e1"
      },
      "execution_count": 40,
      "outputs": [
        {
          "output_type": "execute_result",
          "data": {
            "text/plain": [
              "{'Fantasy': 0,\n",
              " 'Science Fiction': 1,\n",
              " 'Crime Fiction': 2,\n",
              " 'Historical novel': 3,\n",
              " 'Horror': 4,\n",
              " 'Thriller': 5}"
            ]
          },
          "metadata": {},
          "execution_count": 40
        }
      ]
    },
    {
      "cell_type": "code",
      "source": [
        "#mapping the training genre as well\n",
        "\n",
        "newmap = dict([(value,key) for key,value in mapper.items()])\n",
        "newmap"
      ],
      "metadata": {
        "colab": {
          "base_uri": "https://localhost:8080/"
        },
        "id": "n6jFoR_pC31Y",
        "outputId": "5531c3f0-54dc-4aa7-df82-ae6353c587b9"
      },
      "execution_count": 43,
      "outputs": [
        {
          "output_type": "execute_result",
          "data": {
            "text/plain": [
              "{0: 'Fantasy',\n",
              " 1: 'Science Fiction',\n",
              " 2: 'Crime Fiction',\n",
              " 3: 'Historical novel',\n",
              " 4: 'Horror',\n",
              " 5: 'Thriller'}"
            ]
          },
          "metadata": {},
          "execution_count": 43
        }
      ]
    },
    {
      "cell_type": "code",
      "source": [
        "print(newmap)"
      ],
      "metadata": {
        "colab": {
          "base_uri": "https://localhost:8080/"
        },
        "id": "mysUDV7BEYQe",
        "outputId": "98af2c96-6afb-41de-f3b7-55746d5078fb"
      },
      "execution_count": 44,
      "outputs": [
        {
          "output_type": "stream",
          "name": "stdout",
          "text": [
            "{0: 'Fantasy', 1: 'Science Fiction', 2: 'Crime Fiction', 3: 'Historical novel', 4: 'Horror', 5: 'Thriller'}\n"
          ]
        }
      ]
    },
    {
      "cell_type": "code",
      "source": [
        "books['Actual Genre'] = books['genre'].map(newmap)\n",
        "books['Predicted Genre'] = np.array(predicted_genres)\n",
        "books.head()"
      ],
      "metadata": {
        "colab": {
          "base_uri": "https://localhost:8080/",
          "height": 206
        },
        "id": "0LpQspr4EXak",
        "outputId": "9340babf-6792-4f79-dabc-2b0f3019197b"
      },
      "execution_count": 45,
      "outputs": [
        {
          "output_type": "execute_result",
          "data": {
            "text/plain": [
              "    book_id                  book_name  genre  \\\n",
              "0   3248537          Drowned Wednesday      0   \n",
              "1  27796919              The Lost Hero      0   \n",
              "2   3910776  The Eyes of the Overworld      0   \n",
              "3   5969644            Magic's Promise      0   \n",
              "4   3173445             Taran Wanderer      0   \n",
              "\n",
              "                                             summary Actual Genre  \\\n",
              "0  drown wednesday first truste among morrow day ...      Fantasy   \n",
              "1  book open jason awaken school bu unabl rememb ...      Fantasy   \n",
              "2  cugel easili persuad merchant fianosth attempt...      Fantasy   \n",
              "3  book open heraldmag vanyel return countri vald...      Fantasy   \n",
              "4  taran gurgi return caer dallben follow event t...      Fantasy   \n",
              "\n",
              "  Predicted Genre  \n",
              "0         Fantasy  \n",
              "1         Fantasy  \n",
              "2         Fantasy  \n",
              "3         Fantasy  \n",
              "4         Fantasy  "
            ],
            "text/html": [
              "\n",
              "  <div id=\"df-cfabb726-201d-45a0-874d-3ebe838248f2\" class=\"colab-df-container\">\n",
              "    <div>\n",
              "<style scoped>\n",
              "    .dataframe tbody tr th:only-of-type {\n",
              "        vertical-align: middle;\n",
              "    }\n",
              "\n",
              "    .dataframe tbody tr th {\n",
              "        vertical-align: top;\n",
              "    }\n",
              "\n",
              "    .dataframe thead th {\n",
              "        text-align: right;\n",
              "    }\n",
              "</style>\n",
              "<table border=\"1\" class=\"dataframe\">\n",
              "  <thead>\n",
              "    <tr style=\"text-align: right;\">\n",
              "      <th></th>\n",
              "      <th>book_id</th>\n",
              "      <th>book_name</th>\n",
              "      <th>genre</th>\n",
              "      <th>summary</th>\n",
              "      <th>Actual Genre</th>\n",
              "      <th>Predicted Genre</th>\n",
              "    </tr>\n",
              "  </thead>\n",
              "  <tbody>\n",
              "    <tr>\n",
              "      <th>0</th>\n",
              "      <td>3248537</td>\n",
              "      <td>Drowned Wednesday</td>\n",
              "      <td>0</td>\n",
              "      <td>drown wednesday first truste among morrow day ...</td>\n",
              "      <td>Fantasy</td>\n",
              "      <td>Fantasy</td>\n",
              "    </tr>\n",
              "    <tr>\n",
              "      <th>1</th>\n",
              "      <td>27796919</td>\n",
              "      <td>The Lost Hero</td>\n",
              "      <td>0</td>\n",
              "      <td>book open jason awaken school bu unabl rememb ...</td>\n",
              "      <td>Fantasy</td>\n",
              "      <td>Fantasy</td>\n",
              "    </tr>\n",
              "    <tr>\n",
              "      <th>2</th>\n",
              "      <td>3910776</td>\n",
              "      <td>The Eyes of the Overworld</td>\n",
              "      <td>0</td>\n",
              "      <td>cugel easili persuad merchant fianosth attempt...</td>\n",
              "      <td>Fantasy</td>\n",
              "      <td>Fantasy</td>\n",
              "    </tr>\n",
              "    <tr>\n",
              "      <th>3</th>\n",
              "      <td>5969644</td>\n",
              "      <td>Magic's Promise</td>\n",
              "      <td>0</td>\n",
              "      <td>book open heraldmag vanyel return countri vald...</td>\n",
              "      <td>Fantasy</td>\n",
              "      <td>Fantasy</td>\n",
              "    </tr>\n",
              "    <tr>\n",
              "      <th>4</th>\n",
              "      <td>3173445</td>\n",
              "      <td>Taran Wanderer</td>\n",
              "      <td>0</td>\n",
              "      <td>taran gurgi return caer dallben follow event t...</td>\n",
              "      <td>Fantasy</td>\n",
              "      <td>Fantasy</td>\n",
              "    </tr>\n",
              "  </tbody>\n",
              "</table>\n",
              "</div>\n",
              "    <div class=\"colab-df-buttons\">\n",
              "\n",
              "  <div class=\"colab-df-container\">\n",
              "    <button class=\"colab-df-convert\" onclick=\"convertToInteractive('df-cfabb726-201d-45a0-874d-3ebe838248f2')\"\n",
              "            title=\"Convert this dataframe to an interactive table.\"\n",
              "            style=\"display:none;\">\n",
              "\n",
              "  <svg xmlns=\"http://www.w3.org/2000/svg\" height=\"24px\" viewBox=\"0 -960 960 960\">\n",
              "    <path d=\"M120-120v-720h720v720H120Zm60-500h600v-160H180v160Zm220 220h160v-160H400v160Zm0 220h160v-160H400v160ZM180-400h160v-160H180v160Zm440 0h160v-160H620v160ZM180-180h160v-160H180v160Zm440 0h160v-160H620v160Z\"/>\n",
              "  </svg>\n",
              "    </button>\n",
              "\n",
              "  <style>\n",
              "    .colab-df-container {\n",
              "      display:flex;\n",
              "      gap: 12px;\n",
              "    }\n",
              "\n",
              "    .colab-df-convert {\n",
              "      background-color: #E8F0FE;\n",
              "      border: none;\n",
              "      border-radius: 50%;\n",
              "      cursor: pointer;\n",
              "      display: none;\n",
              "      fill: #1967D2;\n",
              "      height: 32px;\n",
              "      padding: 0 0 0 0;\n",
              "      width: 32px;\n",
              "    }\n",
              "\n",
              "    .colab-df-convert:hover {\n",
              "      background-color: #E2EBFA;\n",
              "      box-shadow: 0px 1px 2px rgba(60, 64, 67, 0.3), 0px 1px 3px 1px rgba(60, 64, 67, 0.15);\n",
              "      fill: #174EA6;\n",
              "    }\n",
              "\n",
              "    .colab-df-buttons div {\n",
              "      margin-bottom: 4px;\n",
              "    }\n",
              "\n",
              "    [theme=dark] .colab-df-convert {\n",
              "      background-color: #3B4455;\n",
              "      fill: #D2E3FC;\n",
              "    }\n",
              "\n",
              "    [theme=dark] .colab-df-convert:hover {\n",
              "      background-color: #434B5C;\n",
              "      box-shadow: 0px 1px 3px 1px rgba(0, 0, 0, 0.15);\n",
              "      filter: drop-shadow(0px 1px 2px rgba(0, 0, 0, 0.3));\n",
              "      fill: #FFFFFF;\n",
              "    }\n",
              "  </style>\n",
              "\n",
              "    <script>\n",
              "      const buttonEl =\n",
              "        document.querySelector('#df-cfabb726-201d-45a0-874d-3ebe838248f2 button.colab-df-convert');\n",
              "      buttonEl.style.display =\n",
              "        google.colab.kernel.accessAllowed ? 'block' : 'none';\n",
              "\n",
              "      async function convertToInteractive(key) {\n",
              "        const element = document.querySelector('#df-cfabb726-201d-45a0-874d-3ebe838248f2');\n",
              "        const dataTable =\n",
              "          await google.colab.kernel.invokeFunction('convertToInteractive',\n",
              "                                                    [key], {});\n",
              "        if (!dataTable) return;\n",
              "\n",
              "        const docLinkHtml = 'Like what you see? Visit the ' +\n",
              "          '<a target=\"_blank\" href=https://colab.research.google.com/notebooks/data_table.ipynb>data table notebook</a>'\n",
              "          + ' to learn more about interactive tables.';\n",
              "        element.innerHTML = '';\n",
              "        dataTable['output_type'] = 'display_data';\n",
              "        await google.colab.output.renderOutput(dataTable, element);\n",
              "        const docLink = document.createElement('div');\n",
              "        docLink.innerHTML = docLinkHtml;\n",
              "        element.appendChild(docLink);\n",
              "      }\n",
              "    </script>\n",
              "  </div>\n",
              "\n",
              "\n",
              "<div id=\"df-a8a133bd-54af-40d1-a8cb-d3e41297de11\">\n",
              "  <button class=\"colab-df-quickchart\" onclick=\"quickchart('df-a8a133bd-54af-40d1-a8cb-d3e41297de11')\"\n",
              "            title=\"Suggest charts\"\n",
              "            style=\"display:none;\">\n",
              "\n",
              "<svg xmlns=\"http://www.w3.org/2000/svg\" height=\"24px\"viewBox=\"0 0 24 24\"\n",
              "     width=\"24px\">\n",
              "    <g>\n",
              "        <path d=\"M19 3H5c-1.1 0-2 .9-2 2v14c0 1.1.9 2 2 2h14c1.1 0 2-.9 2-2V5c0-1.1-.9-2-2-2zM9 17H7v-7h2v7zm4 0h-2V7h2v10zm4 0h-2v-4h2v4z\"/>\n",
              "    </g>\n",
              "</svg>\n",
              "  </button>\n",
              "\n",
              "<style>\n",
              "  .colab-df-quickchart {\n",
              "      --bg-color: #E8F0FE;\n",
              "      --fill-color: #1967D2;\n",
              "      --hover-bg-color: #E2EBFA;\n",
              "      --hover-fill-color: #174EA6;\n",
              "      --disabled-fill-color: #AAA;\n",
              "      --disabled-bg-color: #DDD;\n",
              "  }\n",
              "\n",
              "  [theme=dark] .colab-df-quickchart {\n",
              "      --bg-color: #3B4455;\n",
              "      --fill-color: #D2E3FC;\n",
              "      --hover-bg-color: #434B5C;\n",
              "      --hover-fill-color: #FFFFFF;\n",
              "      --disabled-bg-color: #3B4455;\n",
              "      --disabled-fill-color: #666;\n",
              "  }\n",
              "\n",
              "  .colab-df-quickchart {\n",
              "    background-color: var(--bg-color);\n",
              "    border: none;\n",
              "    border-radius: 50%;\n",
              "    cursor: pointer;\n",
              "    display: none;\n",
              "    fill: var(--fill-color);\n",
              "    height: 32px;\n",
              "    padding: 0;\n",
              "    width: 32px;\n",
              "  }\n",
              "\n",
              "  .colab-df-quickchart:hover {\n",
              "    background-color: var(--hover-bg-color);\n",
              "    box-shadow: 0 1px 2px rgba(60, 64, 67, 0.3), 0 1px 3px 1px rgba(60, 64, 67, 0.15);\n",
              "    fill: var(--button-hover-fill-color);\n",
              "  }\n",
              "\n",
              "  .colab-df-quickchart-complete:disabled,\n",
              "  .colab-df-quickchart-complete:disabled:hover {\n",
              "    background-color: var(--disabled-bg-color);\n",
              "    fill: var(--disabled-fill-color);\n",
              "    box-shadow: none;\n",
              "  }\n",
              "\n",
              "  .colab-df-spinner {\n",
              "    border: 2px solid var(--fill-color);\n",
              "    border-color: transparent;\n",
              "    border-bottom-color: var(--fill-color);\n",
              "    animation:\n",
              "      spin 1s steps(1) infinite;\n",
              "  }\n",
              "\n",
              "  @keyframes spin {\n",
              "    0% {\n",
              "      border-color: transparent;\n",
              "      border-bottom-color: var(--fill-color);\n",
              "      border-left-color: var(--fill-color);\n",
              "    }\n",
              "    20% {\n",
              "      border-color: transparent;\n",
              "      border-left-color: var(--fill-color);\n",
              "      border-top-color: var(--fill-color);\n",
              "    }\n",
              "    30% {\n",
              "      border-color: transparent;\n",
              "      border-left-color: var(--fill-color);\n",
              "      border-top-color: var(--fill-color);\n",
              "      border-right-color: var(--fill-color);\n",
              "    }\n",
              "    40% {\n",
              "      border-color: transparent;\n",
              "      border-right-color: var(--fill-color);\n",
              "      border-top-color: var(--fill-color);\n",
              "    }\n",
              "    60% {\n",
              "      border-color: transparent;\n",
              "      border-right-color: var(--fill-color);\n",
              "    }\n",
              "    80% {\n",
              "      border-color: transparent;\n",
              "      border-right-color: var(--fill-color);\n",
              "      border-bottom-color: var(--fill-color);\n",
              "    }\n",
              "    90% {\n",
              "      border-color: transparent;\n",
              "      border-bottom-color: var(--fill-color);\n",
              "    }\n",
              "  }\n",
              "</style>\n",
              "\n",
              "  <script>\n",
              "    async function quickchart(key) {\n",
              "      const quickchartButtonEl =\n",
              "        document.querySelector('#' + key + ' button');\n",
              "      quickchartButtonEl.disabled = true;  // To prevent multiple clicks.\n",
              "      quickchartButtonEl.classList.add('colab-df-spinner');\n",
              "      try {\n",
              "        const charts = await google.colab.kernel.invokeFunction(\n",
              "            'suggestCharts', [key], {});\n",
              "      } catch (error) {\n",
              "        console.error('Error during call to suggestCharts:', error);\n",
              "      }\n",
              "      quickchartButtonEl.classList.remove('colab-df-spinner');\n",
              "      quickchartButtonEl.classList.add('colab-df-quickchart-complete');\n",
              "    }\n",
              "    (() => {\n",
              "      let quickchartButtonEl =\n",
              "        document.querySelector('#df-a8a133bd-54af-40d1-a8cb-d3e41297de11 button');\n",
              "      quickchartButtonEl.style.display =\n",
              "        google.colab.kernel.accessAllowed ? 'block' : 'none';\n",
              "    })();\n",
              "  </script>\n",
              "</div>\n",
              "\n",
              "    </div>\n",
              "  </div>\n"
            ],
            "application/vnd.google.colaboratory.intrinsic+json": {
              "type": "dataframe",
              "variable_name": "books",
              "summary": "{\n  \"name\": \"books\",\n  \"rows\": 3000,\n  \"fields\": [\n    {\n      \"column\": \"book_id\",\n      \"properties\": {\n        \"dtype\": \"number\",\n        \"std\": 8375374,\n        \"min\": 843,\n        \"max\": 37054020,\n        \"num_unique_values\": 3000,\n        \"samples\": [\n          2795327,\n          9350572,\n          9366759\n        ],\n        \"semantic_type\": \"\",\n        \"description\": \"\"\n      }\n    },\n    {\n      \"column\": \"book_name\",\n      \"properties\": {\n        \"dtype\": \"string\",\n        \"num_unique_values\": 2970,\n        \"samples\": [\n          \"Some of Your Blood\",\n          \"To Fear A Painted Devil\",\n          \"The Wolf's Hour\"\n        ],\n        \"semantic_type\": \"\",\n        \"description\": \"\"\n      }\n    },\n    {\n      \"column\": \"genre\",\n      \"properties\": {\n        \"dtype\": \"number\",\n        \"std\": 1,\n        \"min\": 0,\n        \"max\": 5,\n        \"num_unique_values\": 6,\n        \"samples\": [\n          0,\n          1,\n          5\n        ],\n        \"semantic_type\": \"\",\n        \"description\": \"\"\n      }\n    },\n    {\n      \"column\": \"summary\",\n      \"properties\": {\n        \"dtype\": \"string\",\n        \"num_unique_values\": 2995,\n        \"samples\": [\n          \"promis land inc real estat develop compani one charact involv spenser also metaphor refer cape cod promis land spenser hire harvey shepard find miss wife pam soon locat along way begin suspect harvey shepard beaten threaten reveal spenser suspect danger loan shark get fire harvey spenser contact wife unwittingli becom entangl murder need spenser help spenser manag get harvey wife clear land danger crimin behind bar process\",\n          \"stori concern clayton blaisdel jr known blaze short thu titl mental challeng smalltim con artist kidnap wealthi gentleman babi son hope fulfil dream georg thoma rackley blaze deceas best friend partner crime chapter altern blaze past cover childhood includ came brain damag entri life crime despit otherwis sweet demeanor current caper imago still constantli advis friend georg despit help imaginari georg advic blaze world begin crumbl kidnap ventur especi bond babi joey end blaze run inevit destini back horror old orphanag hetton hous cop storm rush cave joey nearli kill blaze end kill two policeman kill polic offic buri mile away father live\",\n          \"quest take septimu jenna beetl search nicko snorri bring back past go marcellu pye rememb inform year old memori provid note nicko snorri note say plan travel hous foryx time meet expect come back time jenna take note back palac meantim merrin meredith travel castl hope destroy septimu bump jenna drop note nicko snorri fall puddl get wet jenna go manuscriptorium ask beetl help replac note beetl take restor specialist ephaniah grebe ephaniah half manhalf rat restor page bind book still miss one piec center map hous foryx merrin meantim take job scribe manuscriptorium meet ghost tertiu fume first chief hermet scribe tertiu make transfer loyalti thing creatur aquir recit word book written tertiu fume assur send septimu peril quest tertiu fume arriv wizard tower along ghost previou extraordinari wizard announc draw quest stone septimu feel darkeness insid urn stone kept tell thing sabotag draw escap wizard tower tertiu fume put sieg septimu take quest stone hildegard think safecharm hildegard tell marcia tell septimu take safecharm charm stranger septimu doesnt regard hildegard stranger marcia disagre contradict blame take quest stone find hildegard actual inhabit tertiu fume thing septimu jenna beetl start journey hous foryx ephaniah grebe promis get morwenna mould witch mother wendron witch show forest way ephaniah promis morwenna anyth exchang show septimu jenna beetl forest way septimu beetl overhear witch talk witch mother ask jenna ullr tag along jenna snorri year past escap coven go camp heap sam heap show forest way eventu reach hous find ephaniah near found last miss piec map possess thing septimu jenna beetl enter hous foryx accident three go insid septimu taken insid door girl name talmar ray bell septimu find face face hotepra first extraordinari wizard meantim jenna beetl find nicko snorri tri escap hous foryx leav marcia sarah arriv outsid hous spit fyre abl return time\"\n        ],\n        \"semantic_type\": \"\",\n        \"description\": \"\"\n      }\n    },\n    {\n      \"column\": \"Actual Genre\",\n      \"properties\": {\n        \"dtype\": \"category\",\n        \"num_unique_values\": 6,\n        \"samples\": [\n          \"Fantasy\",\n          \"Science Fiction\",\n          \"Thriller\"\n        ],\n        \"semantic_type\": \"\",\n        \"description\": \"\"\n      }\n    },\n    {\n      \"column\": \"Predicted Genre\",\n      \"properties\": {\n        \"dtype\": \"category\",\n        \"num_unique_values\": 6,\n        \"samples\": [\n          \"Fantasy\",\n          \"Science Fiction\",\n          \"Crime Fiction\"\n        ],\n        \"semantic_type\": \"\",\n        \"description\": \"\"\n      }\n    }\n  ]\n}"
            }
          },
          "metadata": {},
          "execution_count": 45
        }
      ]
    },
    {
      "cell_type": "code",
      "source": [
        "books = books[['book_name', 'summary', 'Actual Genre', 'Predicted Genre']]\n",
        "books"
      ],
      "metadata": {
        "colab": {
          "base_uri": "https://localhost:8080/",
          "height": 423
        },
        "id": "4YtWfjWnEWIL",
        "outputId": "7d57f91e-822d-4d6a-a31b-5b7a5d7dc33b"
      },
      "execution_count": 46,
      "outputs": [
        {
          "output_type": "execute_result",
          "data": {
            "text/plain": [
              "                      book_name  \\\n",
              "0             Drowned Wednesday   \n",
              "1                 The Lost Hero   \n",
              "2     The Eyes of the Overworld   \n",
              "3               Magic's Promise   \n",
              "4                Taran Wanderer   \n",
              "...                         ...   \n",
              "2995                White Death   \n",
              "2996          Venus with Pistol   \n",
              "2997                 Blackwater   \n",
              "2998   The Rainbow and the Rose   \n",
              "2999                     Chiefs   \n",
              "\n",
              "                                                summary Actual Genre  \\\n",
              "0     drown wednesday first truste among morrow day ...      Fantasy   \n",
              "1     book open jason awaken school bu unabl rememb ...      Fantasy   \n",
              "2     cugel easili persuad merchant fianosth attempt...      Fantasy   \n",
              "3     book open heraldmag vanyel return countri vald...      Fantasy   \n",
              "4     taran gurgi return caer dallben follow event t...      Fantasy   \n",
              "...                                                 ...          ...   \n",
              "2995  novel numa file kurt austin adventur novel mai...     Thriller   \n",
              "2996  gilbert kemp dealer special antiqu gun london ...     Thriller   \n",
              "2997  know your deep davey alway live shadow older b...     Thriller   \n",
              "2998  stori concern life johnni pasco retir commerci...     Thriller   \n",
              "2999  first chief henri lee novel open grow town del...     Thriller   \n",
              "\n",
              "     Predicted Genre  \n",
              "0            Fantasy  \n",
              "1            Fantasy  \n",
              "2            Fantasy  \n",
              "3            Fantasy  \n",
              "4            Fantasy  \n",
              "...              ...  \n",
              "2995        Thriller  \n",
              "2996        Thriller  \n",
              "2997        Thriller  \n",
              "2998        Thriller  \n",
              "2999        Thriller  \n",
              "\n",
              "[3000 rows x 4 columns]"
            ],
            "text/html": [
              "\n",
              "  <div id=\"df-ac84851e-492a-4bf6-90b4-868cb3492071\" class=\"colab-df-container\">\n",
              "    <div>\n",
              "<style scoped>\n",
              "    .dataframe tbody tr th:only-of-type {\n",
              "        vertical-align: middle;\n",
              "    }\n",
              "\n",
              "    .dataframe tbody tr th {\n",
              "        vertical-align: top;\n",
              "    }\n",
              "\n",
              "    .dataframe thead th {\n",
              "        text-align: right;\n",
              "    }\n",
              "</style>\n",
              "<table border=\"1\" class=\"dataframe\">\n",
              "  <thead>\n",
              "    <tr style=\"text-align: right;\">\n",
              "      <th></th>\n",
              "      <th>book_name</th>\n",
              "      <th>summary</th>\n",
              "      <th>Actual Genre</th>\n",
              "      <th>Predicted Genre</th>\n",
              "    </tr>\n",
              "  </thead>\n",
              "  <tbody>\n",
              "    <tr>\n",
              "      <th>0</th>\n",
              "      <td>Drowned Wednesday</td>\n",
              "      <td>drown wednesday first truste among morrow day ...</td>\n",
              "      <td>Fantasy</td>\n",
              "      <td>Fantasy</td>\n",
              "    </tr>\n",
              "    <tr>\n",
              "      <th>1</th>\n",
              "      <td>The Lost Hero</td>\n",
              "      <td>book open jason awaken school bu unabl rememb ...</td>\n",
              "      <td>Fantasy</td>\n",
              "      <td>Fantasy</td>\n",
              "    </tr>\n",
              "    <tr>\n",
              "      <th>2</th>\n",
              "      <td>The Eyes of the Overworld</td>\n",
              "      <td>cugel easili persuad merchant fianosth attempt...</td>\n",
              "      <td>Fantasy</td>\n",
              "      <td>Fantasy</td>\n",
              "    </tr>\n",
              "    <tr>\n",
              "      <th>3</th>\n",
              "      <td>Magic's Promise</td>\n",
              "      <td>book open heraldmag vanyel return countri vald...</td>\n",
              "      <td>Fantasy</td>\n",
              "      <td>Fantasy</td>\n",
              "    </tr>\n",
              "    <tr>\n",
              "      <th>4</th>\n",
              "      <td>Taran Wanderer</td>\n",
              "      <td>taran gurgi return caer dallben follow event t...</td>\n",
              "      <td>Fantasy</td>\n",
              "      <td>Fantasy</td>\n",
              "    </tr>\n",
              "    <tr>\n",
              "      <th>...</th>\n",
              "      <td>...</td>\n",
              "      <td>...</td>\n",
              "      <td>...</td>\n",
              "      <td>...</td>\n",
              "    </tr>\n",
              "    <tr>\n",
              "      <th>2995</th>\n",
              "      <td>White Death</td>\n",
              "      <td>novel numa file kurt austin adventur novel mai...</td>\n",
              "      <td>Thriller</td>\n",
              "      <td>Thriller</td>\n",
              "    </tr>\n",
              "    <tr>\n",
              "      <th>2996</th>\n",
              "      <td>Venus with Pistol</td>\n",
              "      <td>gilbert kemp dealer special antiqu gun london ...</td>\n",
              "      <td>Thriller</td>\n",
              "      <td>Thriller</td>\n",
              "    </tr>\n",
              "    <tr>\n",
              "      <th>2997</th>\n",
              "      <td>Blackwater</td>\n",
              "      <td>know your deep davey alway live shadow older b...</td>\n",
              "      <td>Thriller</td>\n",
              "      <td>Thriller</td>\n",
              "    </tr>\n",
              "    <tr>\n",
              "      <th>2998</th>\n",
              "      <td>The Rainbow and the Rose</td>\n",
              "      <td>stori concern life johnni pasco retir commerci...</td>\n",
              "      <td>Thriller</td>\n",
              "      <td>Thriller</td>\n",
              "    </tr>\n",
              "    <tr>\n",
              "      <th>2999</th>\n",
              "      <td>Chiefs</td>\n",
              "      <td>first chief henri lee novel open grow town del...</td>\n",
              "      <td>Thriller</td>\n",
              "      <td>Thriller</td>\n",
              "    </tr>\n",
              "  </tbody>\n",
              "</table>\n",
              "<p>3000 rows × 4 columns</p>\n",
              "</div>\n",
              "    <div class=\"colab-df-buttons\">\n",
              "\n",
              "  <div class=\"colab-df-container\">\n",
              "    <button class=\"colab-df-convert\" onclick=\"convertToInteractive('df-ac84851e-492a-4bf6-90b4-868cb3492071')\"\n",
              "            title=\"Convert this dataframe to an interactive table.\"\n",
              "            style=\"display:none;\">\n",
              "\n",
              "  <svg xmlns=\"http://www.w3.org/2000/svg\" height=\"24px\" viewBox=\"0 -960 960 960\">\n",
              "    <path d=\"M120-120v-720h720v720H120Zm60-500h600v-160H180v160Zm220 220h160v-160H400v160Zm0 220h160v-160H400v160ZM180-400h160v-160H180v160Zm440 0h160v-160H620v160ZM180-180h160v-160H180v160Zm440 0h160v-160H620v160Z\"/>\n",
              "  </svg>\n",
              "    </button>\n",
              "\n",
              "  <style>\n",
              "    .colab-df-container {\n",
              "      display:flex;\n",
              "      gap: 12px;\n",
              "    }\n",
              "\n",
              "    .colab-df-convert {\n",
              "      background-color: #E8F0FE;\n",
              "      border: none;\n",
              "      border-radius: 50%;\n",
              "      cursor: pointer;\n",
              "      display: none;\n",
              "      fill: #1967D2;\n",
              "      height: 32px;\n",
              "      padding: 0 0 0 0;\n",
              "      width: 32px;\n",
              "    }\n",
              "\n",
              "    .colab-df-convert:hover {\n",
              "      background-color: #E2EBFA;\n",
              "      box-shadow: 0px 1px 2px rgba(60, 64, 67, 0.3), 0px 1px 3px 1px rgba(60, 64, 67, 0.15);\n",
              "      fill: #174EA6;\n",
              "    }\n",
              "\n",
              "    .colab-df-buttons div {\n",
              "      margin-bottom: 4px;\n",
              "    }\n",
              "\n",
              "    [theme=dark] .colab-df-convert {\n",
              "      background-color: #3B4455;\n",
              "      fill: #D2E3FC;\n",
              "    }\n",
              "\n",
              "    [theme=dark] .colab-df-convert:hover {\n",
              "      background-color: #434B5C;\n",
              "      box-shadow: 0px 1px 3px 1px rgba(0, 0, 0, 0.15);\n",
              "      filter: drop-shadow(0px 1px 2px rgba(0, 0, 0, 0.3));\n",
              "      fill: #FFFFFF;\n",
              "    }\n",
              "  </style>\n",
              "\n",
              "    <script>\n",
              "      const buttonEl =\n",
              "        document.querySelector('#df-ac84851e-492a-4bf6-90b4-868cb3492071 button.colab-df-convert');\n",
              "      buttonEl.style.display =\n",
              "        google.colab.kernel.accessAllowed ? 'block' : 'none';\n",
              "\n",
              "      async function convertToInteractive(key) {\n",
              "        const element = document.querySelector('#df-ac84851e-492a-4bf6-90b4-868cb3492071');\n",
              "        const dataTable =\n",
              "          await google.colab.kernel.invokeFunction('convertToInteractive',\n",
              "                                                    [key], {});\n",
              "        if (!dataTable) return;\n",
              "\n",
              "        const docLinkHtml = 'Like what you see? Visit the ' +\n",
              "          '<a target=\"_blank\" href=https://colab.research.google.com/notebooks/data_table.ipynb>data table notebook</a>'\n",
              "          + ' to learn more about interactive tables.';\n",
              "        element.innerHTML = '';\n",
              "        dataTable['output_type'] = 'display_data';\n",
              "        await google.colab.output.renderOutput(dataTable, element);\n",
              "        const docLink = document.createElement('div');\n",
              "        docLink.innerHTML = docLinkHtml;\n",
              "        element.appendChild(docLink);\n",
              "      }\n",
              "    </script>\n",
              "  </div>\n",
              "\n",
              "\n",
              "<div id=\"df-713ebb36-e9ed-4c15-b270-e72e1e5557d4\">\n",
              "  <button class=\"colab-df-quickchart\" onclick=\"quickchart('df-713ebb36-e9ed-4c15-b270-e72e1e5557d4')\"\n",
              "            title=\"Suggest charts\"\n",
              "            style=\"display:none;\">\n",
              "\n",
              "<svg xmlns=\"http://www.w3.org/2000/svg\" height=\"24px\"viewBox=\"0 0 24 24\"\n",
              "     width=\"24px\">\n",
              "    <g>\n",
              "        <path d=\"M19 3H5c-1.1 0-2 .9-2 2v14c0 1.1.9 2 2 2h14c1.1 0 2-.9 2-2V5c0-1.1-.9-2-2-2zM9 17H7v-7h2v7zm4 0h-2V7h2v10zm4 0h-2v-4h2v4z\"/>\n",
              "    </g>\n",
              "</svg>\n",
              "  </button>\n",
              "\n",
              "<style>\n",
              "  .colab-df-quickchart {\n",
              "      --bg-color: #E8F0FE;\n",
              "      --fill-color: #1967D2;\n",
              "      --hover-bg-color: #E2EBFA;\n",
              "      --hover-fill-color: #174EA6;\n",
              "      --disabled-fill-color: #AAA;\n",
              "      --disabled-bg-color: #DDD;\n",
              "  }\n",
              "\n",
              "  [theme=dark] .colab-df-quickchart {\n",
              "      --bg-color: #3B4455;\n",
              "      --fill-color: #D2E3FC;\n",
              "      --hover-bg-color: #434B5C;\n",
              "      --hover-fill-color: #FFFFFF;\n",
              "      --disabled-bg-color: #3B4455;\n",
              "      --disabled-fill-color: #666;\n",
              "  }\n",
              "\n",
              "  .colab-df-quickchart {\n",
              "    background-color: var(--bg-color);\n",
              "    border: none;\n",
              "    border-radius: 50%;\n",
              "    cursor: pointer;\n",
              "    display: none;\n",
              "    fill: var(--fill-color);\n",
              "    height: 32px;\n",
              "    padding: 0;\n",
              "    width: 32px;\n",
              "  }\n",
              "\n",
              "  .colab-df-quickchart:hover {\n",
              "    background-color: var(--hover-bg-color);\n",
              "    box-shadow: 0 1px 2px rgba(60, 64, 67, 0.3), 0 1px 3px 1px rgba(60, 64, 67, 0.15);\n",
              "    fill: var(--button-hover-fill-color);\n",
              "  }\n",
              "\n",
              "  .colab-df-quickchart-complete:disabled,\n",
              "  .colab-df-quickchart-complete:disabled:hover {\n",
              "    background-color: var(--disabled-bg-color);\n",
              "    fill: var(--disabled-fill-color);\n",
              "    box-shadow: none;\n",
              "  }\n",
              "\n",
              "  .colab-df-spinner {\n",
              "    border: 2px solid var(--fill-color);\n",
              "    border-color: transparent;\n",
              "    border-bottom-color: var(--fill-color);\n",
              "    animation:\n",
              "      spin 1s steps(1) infinite;\n",
              "  }\n",
              "\n",
              "  @keyframes spin {\n",
              "    0% {\n",
              "      border-color: transparent;\n",
              "      border-bottom-color: var(--fill-color);\n",
              "      border-left-color: var(--fill-color);\n",
              "    }\n",
              "    20% {\n",
              "      border-color: transparent;\n",
              "      border-left-color: var(--fill-color);\n",
              "      border-top-color: var(--fill-color);\n",
              "    }\n",
              "    30% {\n",
              "      border-color: transparent;\n",
              "      border-left-color: var(--fill-color);\n",
              "      border-top-color: var(--fill-color);\n",
              "      border-right-color: var(--fill-color);\n",
              "    }\n",
              "    40% {\n",
              "      border-color: transparent;\n",
              "      border-right-color: var(--fill-color);\n",
              "      border-top-color: var(--fill-color);\n",
              "    }\n",
              "    60% {\n",
              "      border-color: transparent;\n",
              "      border-right-color: var(--fill-color);\n",
              "    }\n",
              "    80% {\n",
              "      border-color: transparent;\n",
              "      border-right-color: var(--fill-color);\n",
              "      border-bottom-color: var(--fill-color);\n",
              "    }\n",
              "    90% {\n",
              "      border-color: transparent;\n",
              "      border-bottom-color: var(--fill-color);\n",
              "    }\n",
              "  }\n",
              "</style>\n",
              "\n",
              "  <script>\n",
              "    async function quickchart(key) {\n",
              "      const quickchartButtonEl =\n",
              "        document.querySelector('#' + key + ' button');\n",
              "      quickchartButtonEl.disabled = true;  // To prevent multiple clicks.\n",
              "      quickchartButtonEl.classList.add('colab-df-spinner');\n",
              "      try {\n",
              "        const charts = await google.colab.kernel.invokeFunction(\n",
              "            'suggestCharts', [key], {});\n",
              "      } catch (error) {\n",
              "        console.error('Error during call to suggestCharts:', error);\n",
              "      }\n",
              "      quickchartButtonEl.classList.remove('colab-df-spinner');\n",
              "      quickchartButtonEl.classList.add('colab-df-quickchart-complete');\n",
              "    }\n",
              "    (() => {\n",
              "      let quickchartButtonEl =\n",
              "        document.querySelector('#df-713ebb36-e9ed-4c15-b270-e72e1e5557d4 button');\n",
              "      quickchartButtonEl.style.display =\n",
              "        google.colab.kernel.accessAllowed ? 'block' : 'none';\n",
              "    })();\n",
              "  </script>\n",
              "</div>\n",
              "\n",
              "  <div id=\"id_ee72d6a4-62af-4b50-b4e0-6166a5279e71\">\n",
              "    <style>\n",
              "      .colab-df-generate {\n",
              "        background-color: #E8F0FE;\n",
              "        border: none;\n",
              "        border-radius: 50%;\n",
              "        cursor: pointer;\n",
              "        display: none;\n",
              "        fill: #1967D2;\n",
              "        height: 32px;\n",
              "        padding: 0 0 0 0;\n",
              "        width: 32px;\n",
              "      }\n",
              "\n",
              "      .colab-df-generate:hover {\n",
              "        background-color: #E2EBFA;\n",
              "        box-shadow: 0px 1px 2px rgba(60, 64, 67, 0.3), 0px 1px 3px 1px rgba(60, 64, 67, 0.15);\n",
              "        fill: #174EA6;\n",
              "      }\n",
              "\n",
              "      [theme=dark] .colab-df-generate {\n",
              "        background-color: #3B4455;\n",
              "        fill: #D2E3FC;\n",
              "      }\n",
              "\n",
              "      [theme=dark] .colab-df-generate:hover {\n",
              "        background-color: #434B5C;\n",
              "        box-shadow: 0px 1px 3px 1px rgba(0, 0, 0, 0.15);\n",
              "        filter: drop-shadow(0px 1px 2px rgba(0, 0, 0, 0.3));\n",
              "        fill: #FFFFFF;\n",
              "      }\n",
              "    </style>\n",
              "    <button class=\"colab-df-generate\" onclick=\"generateWithVariable('books')\"\n",
              "            title=\"Generate code using this dataframe.\"\n",
              "            style=\"display:none;\">\n",
              "\n",
              "  <svg xmlns=\"http://www.w3.org/2000/svg\" height=\"24px\"viewBox=\"0 0 24 24\"\n",
              "       width=\"24px\">\n",
              "    <path d=\"M7,19H8.4L18.45,9,17,7.55,7,17.6ZM5,21V16.75L18.45,3.32a2,2,0,0,1,2.83,0l1.4,1.43a1.91,1.91,0,0,1,.58,1.4,1.91,1.91,0,0,1-.58,1.4L9.25,21ZM18.45,9,17,7.55Zm-12,3A5.31,5.31,0,0,0,4.9,8.1,5.31,5.31,0,0,0,1,6.5,5.31,5.31,0,0,0,4.9,4.9,5.31,5.31,0,0,0,6.5,1,5.31,5.31,0,0,0,8.1,4.9,5.31,5.31,0,0,0,12,6.5,5.46,5.46,0,0,0,6.5,12Z\"/>\n",
              "  </svg>\n",
              "    </button>\n",
              "    <script>\n",
              "      (() => {\n",
              "      const buttonEl =\n",
              "        document.querySelector('#id_ee72d6a4-62af-4b50-b4e0-6166a5279e71 button.colab-df-generate');\n",
              "      buttonEl.style.display =\n",
              "        google.colab.kernel.accessAllowed ? 'block' : 'none';\n",
              "\n",
              "      buttonEl.onclick = () => {\n",
              "        google.colab.notebook.generateWithVariable('books');\n",
              "      }\n",
              "      })();\n",
              "    </script>\n",
              "  </div>\n",
              "\n",
              "    </div>\n",
              "  </div>\n"
            ],
            "application/vnd.google.colaboratory.intrinsic+json": {
              "type": "dataframe",
              "variable_name": "books",
              "summary": "{\n  \"name\": \"books\",\n  \"rows\": 3000,\n  \"fields\": [\n    {\n      \"column\": \"book_name\",\n      \"properties\": {\n        \"dtype\": \"string\",\n        \"num_unique_values\": 2970,\n        \"samples\": [\n          \"Some of Your Blood\",\n          \"To Fear A Painted Devil\",\n          \"The Wolf's Hour\"\n        ],\n        \"semantic_type\": \"\",\n        \"description\": \"\"\n      }\n    },\n    {\n      \"column\": \"summary\",\n      \"properties\": {\n        \"dtype\": \"string\",\n        \"num_unique_values\": 2995,\n        \"samples\": [\n          \"promis land inc real estat develop compani one charact involv spenser also metaphor refer cape cod promis land spenser hire harvey shepard find miss wife pam soon locat along way begin suspect harvey shepard beaten threaten reveal spenser suspect danger loan shark get fire harvey spenser contact wife unwittingli becom entangl murder need spenser help spenser manag get harvey wife clear land danger crimin behind bar process\",\n          \"stori concern clayton blaisdel jr known blaze short thu titl mental challeng smalltim con artist kidnap wealthi gentleman babi son hope fulfil dream georg thoma rackley blaze deceas best friend partner crime chapter altern blaze past cover childhood includ came brain damag entri life crime despit otherwis sweet demeanor current caper imago still constantli advis friend georg despit help imaginari georg advic blaze world begin crumbl kidnap ventur especi bond babi joey end blaze run inevit destini back horror old orphanag hetton hous cop storm rush cave joey nearli kill blaze end kill two policeman kill polic offic buri mile away father live\",\n          \"quest take septimu jenna beetl search nicko snorri bring back past go marcellu pye rememb inform year old memori provid note nicko snorri note say plan travel hous foryx time meet expect come back time jenna take note back palac meantim merrin meredith travel castl hope destroy septimu bump jenna drop note nicko snorri fall puddl get wet jenna go manuscriptorium ask beetl help replac note beetl take restor specialist ephaniah grebe ephaniah half manhalf rat restor page bind book still miss one piec center map hous foryx merrin meantim take job scribe manuscriptorium meet ghost tertiu fume first chief hermet scribe tertiu make transfer loyalti thing creatur aquir recit word book written tertiu fume assur send septimu peril quest tertiu fume arriv wizard tower along ghost previou extraordinari wizard announc draw quest stone septimu feel darkeness insid urn stone kept tell thing sabotag draw escap wizard tower tertiu fume put sieg septimu take quest stone hildegard think safecharm hildegard tell marcia tell septimu take safecharm charm stranger septimu doesnt regard hildegard stranger marcia disagre contradict blame take quest stone find hildegard actual inhabit tertiu fume thing septimu jenna beetl start journey hous foryx ephaniah grebe promis get morwenna mould witch mother wendron witch show forest way ephaniah promis morwenna anyth exchang show septimu jenna beetl forest way septimu beetl overhear witch talk witch mother ask jenna ullr tag along jenna snorri year past escap coven go camp heap sam heap show forest way eventu reach hous find ephaniah near found last miss piec map possess thing septimu jenna beetl enter hous foryx accident three go insid septimu taken insid door girl name talmar ray bell septimu find face face hotepra first extraordinari wizard meantim jenna beetl find nicko snorri tri escap hous foryx leav marcia sarah arriv outsid hous spit fyre abl return time\"\n        ],\n        \"semantic_type\": \"\",\n        \"description\": \"\"\n      }\n    },\n    {\n      \"column\": \"Actual Genre\",\n      \"properties\": {\n        \"dtype\": \"category\",\n        \"num_unique_values\": 6,\n        \"samples\": [\n          \"Fantasy\",\n          \"Science Fiction\",\n          \"Thriller\"\n        ],\n        \"semantic_type\": \"\",\n        \"description\": \"\"\n      }\n    },\n    {\n      \"column\": \"Predicted Genre\",\n      \"properties\": {\n        \"dtype\": \"category\",\n        \"num_unique_values\": 6,\n        \"samples\": [\n          \"Fantasy\",\n          \"Science Fiction\",\n          \"Crime Fiction\"\n        ],\n        \"semantic_type\": \"\",\n        \"description\": \"\"\n      }\n    }\n  ]\n}"
            }
          },
          "metadata": {},
          "execution_count": 46
        }
      ]
    },
    {
      "cell_type": "code",
      "source": [
        "dict(Counter(books['Actual Genre'].values))"
      ],
      "metadata": {
        "colab": {
          "base_uri": "https://localhost:8080/"
        },
        "id": "VvFLutW2Fxcb",
        "outputId": "f37bce1e-7bd4-4de9-c3ae-459e81dfecdd"
      },
      "execution_count": 47,
      "outputs": [
        {
          "output_type": "execute_result",
          "data": {
            "text/plain": [
              "{'Fantasy': 500,\n",
              " 'Science Fiction': 500,\n",
              " 'Crime Fiction': 500,\n",
              " 'Historical novel': 500,\n",
              " 'Horror': 500,\n",
              " 'Thriller': 500}"
            ]
          },
          "metadata": {},
          "execution_count": 47
        }
      ]
    },
    {
      "cell_type": "code",
      "source": [
        "dict(Counter(books['Predicted Genre'].values))"
      ],
      "metadata": {
        "colab": {
          "base_uri": "https://localhost:8080/"
        },
        "id": "vmd-JhF-Fx3Z",
        "outputId": "0426f795-f947-4f0f-bac0-1f8a408ff9fc"
      },
      "execution_count": 48,
      "outputs": [
        {
          "output_type": "execute_result",
          "data": {
            "text/plain": [
              "{'Fantasy': 442,\n",
              " 'Science Fiction': 521,\n",
              " 'Horror': 481,\n",
              " 'Historical novel': 540,\n",
              " 'Thriller': 466,\n",
              " 'Crime Fiction': 550}"
            ]
          },
          "metadata": {},
          "execution_count": 48
        }
      ]
    },
    {
      "cell_type": "code",
      "source": [
        "sn.countplot(x = books['Predicted Genre'])\n",
        "plt.xticks"
      ],
      "metadata": {
        "colab": {
          "base_uri": "https://localhost:8080/",
          "height": 635
        },
        "id": "KX9w6vUPGaKQ",
        "outputId": "7a92c88b-b83f-4651-8d40-430bc68eb5e7"
      },
      "execution_count": 51,
      "outputs": [
        {
          "output_type": "execute_result",
          "data": {
            "text/plain": [
              "<function matplotlib.pyplot.xticks(ticks: 'ArrayLike | None' = None, labels: 'Sequence[str] | None' = None, *, minor: 'bool' = False, **kwargs) -> 'tuple[list[Tick] | np.ndarray, list[Text]]'>"
            ],
            "text/html": [
              "<div style=\"max-width:800px; border: 1px solid var(--colab-border-color);\"><style>\n",
              "      pre.function-repr-contents {\n",
              "        overflow-x: auto;\n",
              "        padding: 8px 12px;\n",
              "        max-height: 500px;\n",
              "      }\n",
              "\n",
              "      pre.function-repr-contents.function-repr-contents-collapsed {\n",
              "        cursor: pointer;\n",
              "        max-height: 100px;\n",
              "      }\n",
              "    </style>\n",
              "    <pre style=\"white-space: initial; background:\n",
              "         var(--colab-secondary-surface-color); padding: 8px 12px;\n",
              "         border-bottom: 1px solid var(--colab-border-color);\"><b>matplotlib.pyplot.xticks</b><br/>def xticks(ticks: ArrayLike | None=None, labels: Sequence[str] | None=None, *, minor: bool=False, **kwargs) -&gt; tuple[list[Tick] | np.ndarray, list[Text]]</pre><pre class=\"function-repr-contents function-repr-contents-collapsed\" style=\"\"><a class=\"filepath\" style=\"display:none\" href=\"#\">/usr/local/lib/python3.11/dist-packages/matplotlib/pyplot.py</a>Get or set the current tick locations and labels of the x-axis.\n",
              "\n",
              "Pass no arguments to return the current values without modifying them.\n",
              "\n",
              "Parameters\n",
              "----------\n",
              "ticks : array-like, optional\n",
              "    The list of xtick locations.  Passing an empty list removes all xticks.\n",
              "labels : array-like, optional\n",
              "    The labels to place at the given *ticks* locations.  This argument can\n",
              "    only be passed if *ticks* is passed as well.\n",
              "minor : bool, default: False\n",
              "    If ``False``, get/set the major ticks/labels; if ``True``, the minor\n",
              "    ticks/labels.\n",
              "**kwargs\n",
              "    `.Text` properties can be used to control the appearance of the labels.\n",
              "\n",
              "    .. warning::\n",
              "\n",
              "        This only sets the properties of the current ticks, which is\n",
              "        only sufficient if you either pass *ticks*, resulting in a\n",
              "        fixed list of ticks, or if the plot is static.\n",
              "\n",
              "        Ticks are not guaranteed to be persistent. Various operations\n",
              "        can create, delete and modify the Tick instances. There is an\n",
              "        imminent risk that these settings can get lost if you work on\n",
              "        the figure further (including also panning/zooming on a\n",
              "        displayed figure).\n",
              "\n",
              "        Use `~.pyplot.tick_params` instead if possible.\n",
              "\n",
              "\n",
              "Returns\n",
              "-------\n",
              "locs\n",
              "    The list of xtick locations.\n",
              "labels\n",
              "    The list of xlabel `.Text` objects.\n",
              "\n",
              "Notes\n",
              "-----\n",
              "Calling this function with no arguments (e.g. ``xticks()``) is the pyplot\n",
              "equivalent of calling `~.Axes.get_xticks` and `~.Axes.get_xticklabels` on\n",
              "the current Axes.\n",
              "Calling this function with arguments is the pyplot equivalent of calling\n",
              "`~.Axes.set_xticks` and `~.Axes.set_xticklabels` on the current Axes.\n",
              "\n",
              "Examples\n",
              "--------\n",
              "&gt;&gt;&gt; locs, labels = xticks()  # Get the current locations and labels.\n",
              "&gt;&gt;&gt; xticks(np.arange(0, 1, step=0.2))  # Set label locations.\n",
              "&gt;&gt;&gt; xticks(np.arange(3), [&#x27;Tom&#x27;, &#x27;Dick&#x27;, &#x27;Sue&#x27;])  # Set text labels.\n",
              "&gt;&gt;&gt; xticks([0, 1, 2], [&#x27;January&#x27;, &#x27;February&#x27;, &#x27;March&#x27;],\n",
              "...        rotation=20)  # Set text labels and properties.\n",
              "&gt;&gt;&gt; xticks([])  # Disable xticks.</pre>\n",
              "      <script>\n",
              "      if (google.colab.kernel.accessAllowed && google.colab.files && google.colab.files.view) {\n",
              "        for (const element of document.querySelectorAll('.filepath')) {\n",
              "          element.style.display = 'block'\n",
              "          element.onclick = (event) => {\n",
              "            event.preventDefault();\n",
              "            event.stopPropagation();\n",
              "            google.colab.files.view(element.textContent, 2164);\n",
              "          };\n",
              "        }\n",
              "      }\n",
              "      for (const element of document.querySelectorAll('.function-repr-contents')) {\n",
              "        element.onclick = (event) => {\n",
              "          event.preventDefault();\n",
              "          event.stopPropagation();\n",
              "          element.classList.toggle('function-repr-contents-collapsed');\n",
              "        };\n",
              "      }\n",
              "      </script>\n",
              "      </div>"
            ]
          },
          "metadata": {},
          "execution_count": 51
        },
        {
          "output_type": "display_data",
          "data": {
            "text/plain": [
              "<Figure size 640x480 with 1 Axes>"
            ],
            "image/png": "[encoded data removed]"
          },
          "metadata": {}
        }
      ]
    },
    {
      "cell_type": "markdown",
      "source": [
        "## Saving the model"
      ],
      "metadata": {
        "id": "JCbYd-kMHQjw"
      }
    },
    {
      "cell_type": "code",
      "source": [
        "#saving the model\n",
        "\n",
        "import pickle\n",
        "\n",
        "file = open('bookgenremodel.pkL', 'wb')\n",
        "pickle.dump(mb, file)\n",
        "file.close()\n"
      ],
      "metadata": {
        "id": "IDuWu_tTG54j"
      },
      "execution_count": 52,
      "outputs": []
    },
    {
      "cell_type": "code",
      "source": [
        "books['summary'].iloc[1]"
      ],
      "metadata": {
        "colab": {
          "base_uri": "https://localhost:8080/",
          "height": 254
        },
        "id": "HxALi7V4HyLJ",
        "outputId": "9e6412a3-a558-4a05-9f34-cc70598a78e5"
      },
      "execution_count": 53,
      "outputs": [
        {
          "output_type": "execute_result",
          "data": {
            "text/plain": [
              "'book open jason awaken school bu unabl rememb anyth past sit next piper mclean leo valdez call name say girlfriend best friend respect three part class field trip grand canyon arriv classmat dylan turn venti storm spirit attack trio trip leader coach gleeson hedg ensu fight jason surpris everyon includ one coin turn sword us battl storm spirit coach hedg reveal satyr fight taken captiv flee spirit battl fli chariot arriv rescu trio one peopl annabeth upset discov miss boyfriend perci jackson expect annabeth seek perci told vision goddess hera look guy one shoe turn jason shoe destroy fight jason piperand leo told demigod taken back camp halfblood meet greek demigod child like leo reveal son hephaestu piper daughter aphrodit jason son zeu though hera tell champion jason later discov full brother zeu demigod daughter thalia grace hunter artemi shortli arriv three given quest rescu hera captur set soon discov enemi work order gaea overthrow god quest encount thalia hunter look perci thalia jason reunit first sinc jason captur age two way aeolu castl jason leo piper becom separ thalia promis meet wolf hous last place thalia seen jason meet nearli apprehend aeolu gaea order trio manag escap thank melli aeolu former assist end san francisco thank result dream piper aphrodit land san francisco trio rush mtdiablo fight giant enceladu kidnap piper father manag kill giant save piper father rush wolf hous free hera although hero hunter save hera king giant porphyrion rise fulli disappear hole earth jason memori start return rememb hero roman counterpart camp halfblood somewher near san francisco son jupit zeu roman aspect realiz hera also known juno switch perci jackson roman camp memori life hope two camp would ultim work togeth fight giant defeat goddess gaea'"
            ],
            "application/vnd.google.colaboratory.intrinsic+json": {
              "type": "string"
            }
          },
          "metadata": {},
          "execution_count": 53
        }
      ]
    },
    {
      "cell_type": "code",
      "source": [
        "tfidf_vectorizer"
      ],
      "metadata": {
        "colab": {
          "base_uri": "https://localhost:8080/",
          "height": 80
        },
        "id": "47mp2D8BIBGz",
        "outputId": "5ee72c06-63d5-404a-a945-cf28e15bf7ef"
      },
      "execution_count": 54,
      "outputs": [
        {
          "output_type": "execute_result",
          "data": {
            "text/plain": [
              "TfidfVectorizer(max_df=0.8, max_features=10000)"
            ],
            "text/html": [
              "<style>#sk-container-id-1 {\n",
              "  /* Definition of color scheme common for light and dark mode */\n",
              "  --sklearn-color-text: #000;\n",
              "  --sklearn-color-text-muted: #666;\n",
              "  --sklearn-color-line: gray;\n",
              "  /* Definition of color scheme for unfitted estimators */\n",
              "  --sklearn-color-unfitted-level-0: #fff5e6;\n",
              "  --sklearn-color-unfitted-level-1: #f6e4d2;\n",
              "  --sklearn-color-unfitted-level-2: #ffe0b3;\n",
              "  --sklearn-color-unfitted-level-3: chocolate;\n",
              "  /* Definition of color scheme for fitted estimators */\n",
              "  --sklearn-color-fitted-level-0: #f0f8ff;\n",
              "  --sklearn-color-fitted-level-1: #d4ebff;\n",
              "  --sklearn-color-fitted-level-2: #b3dbfd;\n",
              "  --sklearn-color-fitted-level-3: cornflowerblue;\n",
              "\n",
              "  /* Specific color for light theme */\n",
              "  --sklearn-color-text-on-default-background: var(--sg-text-color, var(--theme-code-foreground, var(--jp-content-font-color1, black)));\n",
              "  --sklearn-color-background: var(--sg-background-color, var(--theme-background, var(--jp-layout-color0, white)));\n",
              "  --sklearn-color-border-box: var(--sg-text-color, var(--theme-code-foreground, var(--jp-content-font-color1, black)));\n",
              "  --sklearn-color-icon: #696969;\n",
              "\n",
              "  @media (prefers-color-scheme: dark) {\n",
              "    /* Redefinition of color scheme for dark theme */\n",
              "    --sklearn-color-text-on-default-background: var(--sg-text-color, var(--theme-code-foreground, var(--jp-content-font-color1, white)));\n",
              "    --sklearn-color-background: var(--sg-background-color, var(--theme-background, var(--jp-layout-color0, #111)));\n",
              "    --sklearn-color-border-box: var(--sg-text-color, var(--theme-code-foreground, var(--jp-content-font-color1, white)));\n",
              "    --sklearn-color-icon: #878787;\n",
              "  }\n",
              "}\n",
              "\n",
              "#sk-container-id-1 {\n",
              "  color: var(--sklearn-color-text);\n",
              "}\n",
              "\n",
              "#sk-container-id-1 pre {\n",
              "  padding: 0;\n",
              "}\n",
              "\n",
              "#sk-container-id-1 input.sk-hidden--visually {\n",
              "  border: 0;\n",
              "  clip: rect(1px 1px 1px 1px);\n",
              "  clip: rect(1px, 1px, 1px, 1px);\n",
              "  height: 1px;\n",
              "  margin: -1px;\n",
              "  overflow: hidden;\n",
              "  padding: 0;\n",
              "  position: absolute;\n",
              "  width: 1px;\n",
              "}\n",
              "\n",
              "#sk-container-id-1 div.sk-dashed-wrapped {\n",
              "  border: 1px dashed var(--sklearn-color-line);\n",
              "  margin: 0 0.4em 0.5em 0.4em;\n",
              "  box-sizing: border-box;\n",
              "  padding-bottom: 0.4em;\n",
              "  background-color: var(--sklearn-color-background);\n",
              "}\n",
              "\n",
              "#sk-container-id-1 div.sk-container {\n",
              "  /* jupyter's `normalize.less` sets `[hidden] { display: none; }`\n",
              "     but bootstrap.min.css set `[hidden] { display: none !important; }`\n",
              "     so we also need the `!important` here to be able to override the\n",
              "     default hidden behavior on the sphinx rendered scikit-learn.org.\n",
              "     See: https://github.com/scikit-learn/scikit-learn/issues/21755 */\n",
              "  display: inline-block !important;\n",
              "  position: relative;\n",
              "}\n",
              "\n",
              "#sk-container-id-1 div.sk-text-repr-fallback {\n",
              "  display: none;\n",
              "}\n",
              "\n",
              "div.sk-parallel-item,\n",
              "div.sk-serial,\n",
              "div.sk-item {\n",
              "  /* draw centered vertical line to link estimators */\n",
              "  background-image: linear-gradient(var(--sklearn-color-text-on-default-background), var(--sklearn-color-text-on-default-background));\n",
              "  background-size: 2px 100%;\n",
              "  background-repeat: no-repeat;\n",
              "  background-position: center center;\n",
              "}\n",
              "\n",
              "/* Parallel-specific style estimator block */\n",
              "\n",
              "#sk-container-id-1 div.sk-parallel-item::after {\n",
              "  content: \"\";\n",
              "  width: 100%;\n",
              "  border-bottom: 2px solid var(--sklearn-color-text-on-default-background);\n",
              "  flex-grow: 1;\n",
              "}\n",
              "\n",
              "#sk-container-id-1 div.sk-parallel {\n",
              "  display: flex;\n",
              "  align-items: stretch;\n",
              "  justify-content: center;\n",
              "  background-color: var(--sklearn-color-background);\n",
              "  position: relative;\n",
              "}\n",
              "\n",
              "#sk-container-id-1 div.sk-parallel-item {\n",
              "  display: flex;\n",
              "  flex-direction: column;\n",
              "}\n",
              "\n",
              "#sk-container-id-1 div.sk-parallel-item:first-child::after {\n",
              "  align-self: flex-end;\n",
              "  width: 50%;\n",
              "}\n",
              "\n",
              "#sk-container-id-1 div.sk-parallel-item:last-child::after {\n",
              "  align-self: flex-start;\n",
              "  width: 50%;\n",
              "}\n",
              "\n",
              "#sk-container-id-1 div.sk-parallel-item:only-child::after {\n",
              "  width: 0;\n",
              "}\n",
              "\n",
              "/* Serial-specific style estimator block */\n",
              "\n",
              "#sk-container-id-1 div.sk-serial {\n",
              "  display: flex;\n",
              "  flex-direction: column;\n",
              "  align-items: center;\n",
              "  background-color: var(--sklearn-color-background);\n",
              "  padding-right: 1em;\n",
              "  padding-left: 1em;\n",
              "}\n",
              "\n",
              "\n",
              "/* Toggleable style: style used for estimator/Pipeline/ColumnTransformer box that is\n",
              "clickable and can be expanded/collapsed.\n",
              "- Pipeline and ColumnTransformer use this feature and define the default style\n",
              "- Estimators will overwrite some part of the style using the `sk-estimator` class\n",
              "*/\n",
              "\n",
              "/* Pipeline and ColumnTransformer style (default) */\n",
              "\n",
              "#sk-container-id-1 div.sk-toggleable {\n",
              "  /* Default theme specific background. It is overwritten whether we have a\n",
              "  specific estimator or a Pipeline/ColumnTransformer */\n",
              "  background-color: var(--sklearn-color-background);\n",
              "}\n",
              "\n",
              "/* Toggleable label */\n",
              "#sk-container-id-1 label.sk-toggleable__label {\n",
              "  cursor: pointer;\n",
              "  display: flex;\n",
              "  width: 100%;\n",
              "  margin-bottom: 0;\n",
              "  padding: 0.5em;\n",
              "  box-sizing: border-box;\n",
              "  text-align: center;\n",
              "  align-items: start;\n",
              "  justify-content: space-between;\n",
              "  gap: 0.5em;\n",
              "}\n",
              "\n",
              "#sk-container-id-1 label.sk-toggleable__label .caption {\n",
              "  font-size: 0.6rem;\n",
              "  font-weight: lighter;\n",
              "  color: var(--sklearn-color-text-muted);\n",
              "}\n",
              "\n",
              "#sk-container-id-1 label.sk-toggleable__label-arrow:before {\n",
              "  /* Arrow on the left of the label */\n",
              "  content: \"▸\";\n",
              "  float: left;\n",
              "  margin-right: 0.25em;\n",
              "  color: var(--sklearn-color-icon);\n",
              "}\n",
              "\n",
              "#sk-container-id-1 label.sk-toggleable__label-arrow:hover:before {\n",
              "  color: var(--sklearn-color-text);\n",
              "}\n",
              "\n",
              "/* Toggleable content - dropdown */\n",
              "\n",
              "#sk-container-id-1 div.sk-toggleable__content {\n",
              "  max-height: 0;\n",
              "  max-width: 0;\n",
              "  overflow: hidden;\n",
              "  text-align: left;\n",
              "  /* unfitted */\n",
              "  background-color: var(--sklearn-color-unfitted-level-0);\n",
              "}\n",
              "\n",
              "#sk-container-id-1 div.sk-toggleable__content.fitted {\n",
              "  /* fitted */\n",
              "  background-color: var(--sklearn-color-fitted-level-0);\n",
              "}\n",
              "\n",
              "#sk-container-id-1 div.sk-toggleable__content pre {\n",
              "  margin: 0.2em;\n",
              "  border-radius: 0.25em;\n",
              "  color: var(--sklearn-color-text);\n",
              "  /* unfitted */\n",
              "  background-color: var(--sklearn-color-unfitted-level-0);\n",
              "}\n",
              "\n",
              "#sk-container-id-1 div.sk-toggleable__content.fitted pre {\n",
              "  /* unfitted */\n",
              "  background-color: var(--sklearn-color-fitted-level-0);\n",
              "}\n",
              "\n",
              "#sk-container-id-1 input.sk-toggleable__control:checked~div.sk-toggleable__content {\n",
              "  /* Expand drop-down */\n",
              "  max-height: 200px;\n",
              "  max-width: 100%;\n",
              "  overflow: auto;\n",
              "}\n",
              "\n",
              "#sk-container-id-1 input.sk-toggleable__control:checked~label.sk-toggleable__label-arrow:before {\n",
              "  content: \"▾\";\n",
              "}\n",
              "\n",
              "/* Pipeline/ColumnTransformer-specific style */\n",
              "\n",
              "#sk-container-id-1 div.sk-label input.sk-toggleable__control:checked~label.sk-toggleable__label {\n",
              "  color: var(--sklearn-color-text);\n",
              "  background-color: var(--sklearn-color-unfitted-level-2);\n",
              "}\n",
              "\n",
              "#sk-container-id-1 div.sk-label.fitted input.sk-toggleable__control:checked~label.sk-toggleable__label {\n",
              "  background-color: var(--sklearn-color-fitted-level-2);\n",
              "}\n",
              "\n",
              "/* Estimator-specific style */\n",
              "\n",
              "/* Colorize estimator box */\n",
              "#sk-container-id-1 div.sk-estimator input.sk-toggleable__control:checked~label.sk-toggleable__label {\n",
              "  /* unfitted */\n",
              "  background-color: var(--sklearn-color-unfitted-level-2);\n",
              "}\n",
              "\n",
              "#sk-container-id-1 div.sk-estimator.fitted input.sk-toggleable__control:checked~label.sk-toggleable__label {\n",
              "  /* fitted */\n",
              "  background-color: var(--sklearn-color-fitted-level-2);\n",
              "}\n",
              "\n",
              "#sk-container-id-1 div.sk-label label.sk-toggleable__label,\n",
              "#sk-container-id-1 div.sk-label label {\n",
              "  /* The background is the default theme color */\n",
              "  color: var(--sklearn-color-text-on-default-background);\n",
              "}\n",
              "\n",
              "/* On hover, darken the color of the background */\n",
              "#sk-container-id-1 div.sk-label:hover label.sk-toggleable__label {\n",
              "  color: var(--sklearn-color-text);\n",
              "  background-color: var(--sklearn-color-unfitted-level-2);\n",
              "}\n",
              "\n",
              "/* Label box, darken color on hover, fitted */\n",
              "#sk-container-id-1 div.sk-label.fitted:hover label.sk-toggleable__label.fitted {\n",
              "  color: var(--sklearn-color-text);\n",
              "  background-color: var(--sklearn-color-fitted-level-2);\n",
              "}\n",
              "\n",
              "/* Estimator label */\n",
              "\n",
              "#sk-container-id-1 div.sk-label label {\n",
              "  font-family: monospace;\n",
              "  font-weight: bold;\n",
              "  display: inline-block;\n",
              "  line-height: 1.2em;\n",
              "}\n",
              "\n",
              "#sk-container-id-1 div.sk-label-container {\n",
              "  text-align: center;\n",
              "}\n",
              "\n",
              "/* Estimator-specific */\n",
              "#sk-container-id-1 div.sk-estimator {\n",
              "  font-family: monospace;\n",
              "  border: 1px dotted var(--sklearn-color-border-box);\n",
              "  border-radius: 0.25em;\n",
              "  box-sizing: border-box;\n",
              "  margin-bottom: 0.5em;\n",
              "  /* unfitted */\n",
              "  background-color: var(--sklearn-color-unfitted-level-0);\n",
              "}\n",
              "\n",
              "#sk-container-id-1 div.sk-estimator.fitted {\n",
              "  /* fitted */\n",
              "  background-color: var(--sklearn-color-fitted-level-0);\n",
              "}\n",
              "\n",
              "/* on hover */\n",
              "#sk-container-id-1 div.sk-estimator:hover {\n",
              "  /* unfitted */\n",
              "  background-color: var(--sklearn-color-unfitted-level-2);\n",
              "}\n",
              "\n",
              "#sk-container-id-1 div.sk-estimator.fitted:hover {\n",
              "  /* fitted */\n",
              "  background-color: var(--sklearn-color-fitted-level-2);\n",
              "}\n",
              "\n",
              "/* Specification for estimator info (e.g. \"i\" and \"?\") */\n",
              "\n",
              "/* Common style for \"i\" and \"?\" */\n",
              "\n",
              ".sk-estimator-doc-link,\n",
              "a:link.sk-estimator-doc-link,\n",
              "a:visited.sk-estimator-doc-link {\n",
              "  float: right;\n",
              "  font-size: smaller;\n",
              "  line-height: 1em;\n",
              "  font-family: monospace;\n",
              "  background-color: var(--sklearn-color-background);\n",
              "  border-radius: 1em;\n",
              "  height: 1em;\n",
              "  width: 1em;\n",
              "  text-decoration: none !important;\n",
              "  margin-left: 0.5em;\n",
              "  text-align: center;\n",
              "  /* unfitted */\n",
              "  border: var(--sklearn-color-unfitted-level-1) 1pt solid;\n",
              "  color: var(--sklearn-color-unfitted-level-1);\n",
              "}\n",
              "\n",
              ".sk-estimator-doc-link.fitted,\n",
              "a:link.sk-estimator-doc-link.fitted,\n",
              "a:visited.sk-estimator-doc-link.fitted {\n",
              "  /* fitted */\n",
              "  border: var(--sklearn-color-fitted-level-1) 1pt solid;\n",
              "  color: var(--sklearn-color-fitted-level-1);\n",
              "}\n",
              "\n",
              "/* On hover */\n",
              "div.sk-estimator:hover .sk-estimator-doc-link:hover,\n",
              ".sk-estimator-doc-link:hover,\n",
              "div.sk-label-container:hover .sk-estimator-doc-link:hover,\n",
              ".sk-estimator-doc-link:hover {\n",
              "  /* unfitted */\n",
              "  background-color: var(--sklearn-color-unfitted-level-3);\n",
              "  color: var(--sklearn-color-background);\n",
              "  text-decoration: none;\n",
              "}\n",
              "\n",
              "div.sk-estimator.fitted:hover .sk-estimator-doc-link.fitted:hover,\n",
              ".sk-estimator-doc-link.fitted:hover,\n",
              "div.sk-label-container:hover .sk-estimator-doc-link.fitted:hover,\n",
              ".sk-estimator-doc-link.fitted:hover {\n",
              "  /* fitted */\n",
              "  background-color: var(--sklearn-color-fitted-level-3);\n",
              "  color: var(--sklearn-color-background);\n",
              "  text-decoration: none;\n",
              "}\n",
              "\n",
              "/* Span, style for the box shown on hovering the info icon */\n",
              ".sk-estimator-doc-link span {\n",
              "  display: none;\n",
              "  z-index: 9999;\n",
              "  position: relative;\n",
              "  font-weight: normal;\n",
              "  right: .2ex;\n",
              "  padding: .5ex;\n",
              "  margin: .5ex;\n",
              "  width: min-content;\n",
              "  min-width: 20ex;\n",
              "  max-width: 50ex;\n",
              "  color: var(--sklearn-color-text);\n",
              "  box-shadow: 2pt 2pt 4pt #999;\n",
              "  /* unfitted */\n",
              "  background: var(--sklearn-color-unfitted-level-0);\n",
              "  border: .5pt solid var(--sklearn-color-unfitted-level-3);\n",
              "}\n",
              "\n",
              ".sk-estimator-doc-link.fitted span {\n",
              "  /* fitted */\n",
              "  background: var(--sklearn-color-fitted-level-0);\n",
              "  border: var(--sklearn-color-fitted-level-3);\n",
              "}\n",
              "\n",
              ".sk-estimator-doc-link:hover span {\n",
              "  display: block;\n",
              "}\n",
              "\n",
              "/* \"?\"-specific style due to the `<a>` HTML tag */\n",
              "\n",
              "#sk-container-id-1 a.estimator_doc_link {\n",
              "  float: right;\n",
              "  font-size: 1rem;\n",
              "  line-height: 1em;\n",
              "  font-family: monospace;\n",
              "  background-color: var(--sklearn-color-background);\n",
              "  border-radius: 1rem;\n",
              "  height: 1rem;\n",
              "  width: 1rem;\n",
              "  text-decoration: none;\n",
              "  /* unfitted */\n",
              "  color: var(--sklearn-color-unfitted-level-1);\n",
              "  border: var(--sklearn-color-unfitted-level-1) 1pt solid;\n",
              "}\n",
              "\n",
              "#sk-container-id-1 a.estimator_doc_link.fitted {\n",
              "  /* fitted */\n",
              "  border: var(--sklearn-color-fitted-level-1) 1pt solid;\n",
              "  color: var(--sklearn-color-fitted-level-1);\n",
              "}\n",
              "\n",
              "/* On hover */\n",
              "#sk-container-id-1 a.estimator_doc_link:hover {\n",
              "  /* unfitted */\n",
              "  background-color: var(--sklearn-color-unfitted-level-3);\n",
              "  color: var(--sklearn-color-background);\n",
              "  text-decoration: none;\n",
              "}\n",
              "\n",
              "#sk-container-id-1 a.estimator_doc_link.fitted:hover {\n",
              "  /* fitted */\n",
              "  background-color: var(--sklearn-color-fitted-level-3);\n",
              "}\n",
              "</style><div id=\"sk-container-id-1\" class=\"sk-top-container\"><div class=\"sk-text-repr-fallback\"><pre>TfidfVectorizer(max_df=0.8, max_features=10000)</pre><b>In a Jupyter environment, please rerun this cell to show the HTML representation or trust the notebook. <br />On GitHub, the HTML representation is unable to render, please try loading this page with nbviewer.org.</b></div><div class=\"sk-container\" hidden><div class=\"sk-item\"><div class=\"sk-estimator fitted sk-toggleable\"><input class=\"sk-toggleable__control sk-hidden--visually\" id=\"sk-estimator-id-1\" type=\"checkbox\" checked><label for=\"sk-estimator-id-1\" class=\"sk-toggleable__label fitted sk-toggleable__label-arrow\"><div><div>TfidfVectorizer</div></div><div><a class=\"sk-estimator-doc-link fitted\" rel=\"noreferrer\" target=\"_blank\" href=\"https://scikit-learn.org/1.6/modules/generated/sklearn.feature_extraction.text.TfidfVectorizer.html\">?<span>Documentation for TfidfVectorizer</span></a><span class=\"sk-estimator-doc-link fitted\">i<span>Fitted</span></span></div></label><div class=\"sk-toggleable__content fitted\"><pre>TfidfVectorizer(max_df=0.8, max_features=10000)</pre></div> </div></div></div></div>"
            ]
          },
          "metadata": {},
          "execution_count": 54
        }
      ]
    },
    {
      "cell_type": "code",
      "source": [
        "file = open('tfidf_vectorizer.pkL', 'wb')\n",
        "pickle.dump(tfidf_vectorizer, file)\n",
        "file.close()"
      ],
      "metadata": {
        "id": "PLhvpNBKIHSV"
      },
      "execution_count": 55,
      "outputs": []
    },
    {
      "cell_type": "code",
      "source": [
        "wordnet_down = nltk.download('wordnet',download_dir='./')\n",
        "wordnet_down"
      ],
      "metadata": {
        "colab": {
          "base_uri": "https://localhost:8080/"
        },
        "id": "15C3qticIlWQ",
        "outputId": "15d4a064-aa3e-4396-cd9b-93285d8009c9"
      },
      "execution_count": 56,
      "outputs": [
        {
          "output_type": "stream",
          "name": "stderr",
          "text": [
            "[nltk_data] Downloading package wordnet to ./...\n",
            "[nltk_data]   Package wordnet is already up-to-date!\n"
          ]
        },
        {
          "output_type": "execute_result",
          "data": {
            "text/plain": [
              "True"
            ]
          },
          "metadata": {},
          "execution_count": 56
        }
      ]
    },
    {
      "cell_type": "code",
      "source": [
        "nltk.download('stopwords',download_dir='./')"
      ],
      "metadata": {
        "colab": {
          "base_uri": "https://localhost:8080/"
        },
        "id": "sVPyhgUPIkfR",
        "outputId": "7f52effd-9591-4e78-cd45-9a1eaa609e3c"
      },
      "execution_count": 57,
      "outputs": [
        {
          "output_type": "stream",
          "name": "stderr",
          "text": [
            "[nltk_data] Downloading package stopwords to ./...\n",
            "[nltk_data]   Package stopwords is already up-to-date!\n"
          ]
        },
        {
          "output_type": "execute_result",
          "data": {
            "text/plain": [
              "True"
            ]
          },
          "metadata": {},
          "execution_count": 57
        }
      ]
    },
    {
      "cell_type": "code",
      "source": [
        "%%writefile app.py\n",
        "\n",
        "import pickle\n",
        "from nltk.corpus import stopwords\n",
        "from nltk.stem import WordNetLemmatizer\n",
        "from nltk.stem import PorterStemmer\n",
        "import re\n",
        "import nltk\n",
        "from flask import Flask, request, render_template\n",
        "\n",
        "nltk.download('stopwords')\n",
        "nltk.download('wordnet')\n",
        "\n",
        "#cleaning the text removing all unnecessary characters\n",
        "def cleantext(text):\n",
        "    # Removing backslashes explicitly\n",
        "    text = re.sub(r\"\\\\\", \"\", text)\n",
        "\n",
        "    # Removing quotes (single and double)\n",
        "    text = re.sub(r\"[\\\"']\", \"\", text)\n",
        "\n",
        "    # Removing special symbols except letters and spaces\n",
        "    text = re.sub(r\"[^a-zA-Z\\s]\", \"\", text)\n",
        "\n",
        "    # Removing extra whitespaces\n",
        "    text = ' '.join(text.split())\n",
        "\n",
        "    # Convert text to lowercase\n",
        "    text = text.lower()\n",
        "\n",
        "    return text\n",
        "\n",
        "#removing the stopwords\n",
        "def removestopwords(text):\n",
        "\n",
        "   removestopwords = [word for word in text.split() if word not in stop_words]\n",
        "   return ' '.join(removestopwords)\n",
        "\n",
        "#lematizzing the text\n",
        "def lematizing(sentence):\n",
        "    stemSentence = \"\"\n",
        "    for word in sentence.split():\n",
        "      stem = lemma.lemmatize(word)\n",
        "      stemSentence += stem\n",
        "      stemSentence += \" \"\n",
        "    stemSentence = stemSentence.strip()\n",
        "    return stemSentence\n",
        "\n",
        "#stemming the text i.e reducing the word size\n",
        "def stemming(sentence):\n",
        "\n",
        "    stemmed_sentence = \"\"\n",
        "    for word in sentence.split():\n",
        "        stem = stemmer.stem(word)\n",
        "        stemmed_sentence += stem\n",
        "        stemmed_sentence += \" \"\n",
        "\n",
        "    stemmed_sentence = stemmed_sentence.strip()\n",
        "    return stemmed_sentence\n",
        "\n",
        "#testing the model\n",
        "def test(text, model, tfidf_vectorizer):\n",
        "\n",
        "    text = cleantext(text)\n",
        "    text = removestopwords(text)\n",
        "    text = lematizing(text)\n",
        "    text = stemming(text)\n",
        "\n",
        "    text_vector = tfidf_vectorizer.transform([text])\n",
        "    predicted = model.predict(text_vector)\n",
        "\n",
        "    newmapper = {\n",
        "        0: 'Fantasy',\n",
        "        1: 'Science Fiction',\n",
        "        2: 'Crime Fiction',\n",
        "        3: 'Historical novel',\n",
        "        4: 'Horror',\n",
        "        5: 'Thriller'\n",
        "    }\n",
        "\n",
        "    return newmapper[predicted[0]]\n",
        "\n",
        "#training once for tfdif to fit\n",
        "\n",
        "\n",
        "#loading the model\n",
        "file = open('bookgenremodel.pkL', 'rb')\n",
        "mb = pickle.load(file)\n",
        "file.close()\n",
        "\n",
        "file1 = open('tfidf_vectorizer.pkL', 'rb')\n",
        "tfidf_vectorizer = pickle.load(file1)\n",
        "file1.close()\n",
        "\n",
        "app = Flask(__name__)\n",
        "\n",
        "@app.route('/', methods=['GET', 'POST'])\n",
        "def hello_world():\n",
        "\n",
        "    if request.method == 'POST':\n",
        "\n",
        "      mydict = request.form\n",
        "      text = mydict[\"summary\"]\n",
        "      prediction = test(text, mb, tfidf_vectorizer)\n",
        "\n",
        "      return render_template('index.html', genre=prediction, text=str(text)[:100], showresult=True)\n",
        "\n",
        "if __name__ == '__main__':\n",
        "    app.run()"
      ],
      "metadata": {
        "colab": {
          "base_uri": "https://localhost:8080/"
        },
        "id": "4ncFlAtUO6_h",
        "outputId": "0a3284dc-3cef-42ec-9fb5-f2647a3b867b"
      },
      "execution_count": 71,
      "outputs": [
        {
          "output_type": "stream",
          "name": "stdout",
          "text": [
            "Overwriting app.py\n"
          ]
        }
      ]
    },
    {
      "cell_type": "markdown",
      "source": [
        "## To run the flask"
      ],
      "metadata": {
        "id": "LuF8I1dkTHQH"
      }
    },
    {
      "cell_type": "code",
      "source": [
        "!python app.py\n"
      ],
      "metadata": {
        "colab": {
          "base_uri": "https://localhost:8080/"
        },
        "id": "alCDKpTUTF4B",
        "outputId": "b0cdf537-ddbd-4980-84c9-fe3203a7ef1d"
      },
      "execution_count": null,
      "outputs": [
        {
          "output_type": "stream",
          "name": "stdout",
          "text": [
            "[nltk_data] Downloading package stopwords to /root/nltk_data...\n",
            "[nltk_data]   Package stopwords is already up-to-date!\n",
            "[nltk_data] Downloading package wordnet to /root/nltk_data...\n",
            "[nltk_data]   Package wordnet is already up-to-date!\n",
            " * Serving Flask app 'app'\n",
            " * Debug mode: off\n",
            "\u001b[31m\u001b[1mWARNING: This is a development server. Do not use it in a production deployment. Use a production WSGI server instead.\u001b[0m\n",
            " * Running on http://127.0.0.1:5000\n",
            "\u001b[33mPress CTRL+C to quit\u001b[0m\n"
          ]
        }
      ]
    }
  ]
}